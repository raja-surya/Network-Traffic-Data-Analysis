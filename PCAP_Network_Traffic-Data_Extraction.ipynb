{
 "cells": [
  {
   "cell_type": "markdown",
   "metadata": {},
   "source": [
    "# Code to extract network protocol fields from a pcap file and write it in csv format for Data Analysis. Uses Python Scapy tool.\n",
    "\n",
    "#### This should be run before Network_Traffic-Data_Analysis.ipynb notebook"
   ]
  },
  {
   "cell_type": "markdown",
   "metadata": {},
   "source": [
    "###### Import scapy package to decode and extract protocol fields from pcap file."
   ]
  },
  {
   "cell_type": "code",
   "execution_count": 1,
   "metadata": {},
   "outputs": [],
   "source": [
    "import pandas as pd\n",
    "import MyScapyExtract as myscap"
   ]
  },
  {
   "cell_type": "markdown",
   "metadata": {},
   "source": [
    "#### Read the whole pcap file in to memory using scapy rdpcap(). \n",
    "\n",
    "The packet data analysed here is taken from \n",
    "https://www.netresec.com/?page=MACCDC   \n",
    "File : maccdc2012_00000.pcap.gz\n",
    "\n",
    "The original pcap file had to be split for a reduced size of 6 million packets instead of 8 million packets in the original file. Even with a reduced data of 6 million packets, this step takes more than a hour to complete. So please have patience and wait till the pcap file is read."
   ]
  },
  {
   "cell_type": "code",
   "execution_count": 3,
   "metadata": {},
   "outputs": [],
   "source": [
    "file0 = 'maccsplit_00000_20120316180000'\n",
    "\n",
    "packets = myscap.scapy_read_packets(file0)"
   ]
  },
  {
   "cell_type": "code",
   "execution_count": 4,
   "metadata": {},
   "outputs": [
    {
     "name": "stdout",
     "output_type": "stream",
     "text": [
      "6000000\n"
     ]
    },
    {
     "data": {
      "text/plain": [
       "<mod maccsplit_00000_20120316180000: TCP:978 UDP:7 ICMP:2 Other:13>"
      ]
     },
     "execution_count": 4,
     "metadata": {},
     "output_type": "execute_result"
    }
   ],
   "source": [
    "print(len(packets))\n",
    "packets[0:1000]"
   ]
  },
  {
   "cell_type": "code",
   "execution_count": 5,
   "metadata": {},
   "outputs": [
    {
     "data": {
      "text/plain": [
       "6000000"
      ]
     },
     "execution_count": 5,
     "metadata": {},
     "output_type": "execute_result"
    }
   ],
   "source": [
    "len(packets)"
   ]
  },
  {
   "cell_type": "code",
   "execution_count": 6,
   "metadata": {},
   "outputs": [],
   "source": [
    "#import datetime\n",
    "datalst = myscap.parse_scapy_packets(packets)"
   ]
  },
  {
   "cell_type": "code",
   "execution_count": 7,
   "metadata": {},
   "outputs": [
    {
     "data": {
      "text/plain": [
       "6000000"
      ]
     },
     "execution_count": 7,
     "metadata": {},
     "output_type": "execute_result"
    }
   ],
   "source": [
    "len(datalst)"
   ]
  },
  {
   "cell_type": "code",
   "execution_count": 8,
   "metadata": {},
   "outputs": [
    {
     "data": {
      "text/plain": [
       "[{'id': '0',\n",
       "  'len': '117',\n",
       "  'timestamp': '2012-03-16 18:00:00.000000',\n",
       "  'esrc': '00:16:47:9d:f2:c2',\n",
       "  'edst': '00:0c:29:41:4b:e7',\n",
       "  'etype': '33024',\n",
       "  'vlan': '120',\n",
       "  'isrc': '192.168.229.254',\n",
       "  'idst': '192.168.202.79',\n",
       "  'iproto': '6',\n",
       "  'iplen': '99',\n",
       "  'ipttl': '254',\n",
       "  'tsport': '443',\n",
       "  'tdport': '46117',\n",
       "  'twindow': '32768'},\n",
       " {'id': '1',\n",
       "  'len': '269',\n",
       "  'timestamp': '2012-03-16 18:00:00.000000',\n",
       "  'esrc': '00:0c:29:41:4b:e7',\n",
       "  'edst': '00:16:47:9d:f2:c2',\n",
       "  'etype': '33024',\n",
       "  'vlan': '120',\n",
       "  'isrc': '192.168.202.79',\n",
       "  'idst': '192.168.229.254',\n",
       "  'iproto': '6',\n",
       "  'iplen': '251',\n",
       "  'ipttl': '64',\n",
       "  'tsport': '46117',\n",
       "  'tdport': '443',\n",
       "  'twindow': '15544'}]"
      ]
     },
     "execution_count": 8,
     "metadata": {},
     "output_type": "execute_result"
    }
   ],
   "source": [
    "datalst[0:2]"
   ]
  },
  {
   "cell_type": "markdown",
   "metadata": {},
   "source": [
    "There was some error with snmp packet data when I tried to save the data as csv and read it back. So removing the snmp packets from the data list."
   ]
  },
  {
   "cell_type": "code",
   "execution_count": 9,
   "metadata": {},
   "outputs": [],
   "source": [
    "datalst = [dict_item for dict_item in datalst if 'snmpversion' not in dict_item]"
   ]
  },
  {
   "cell_type": "code",
   "execution_count": 3,
   "metadata": {},
   "outputs": [],
   "source": [
    "#datalst[0:2]"
   ]
  },
  {
   "cell_type": "markdown",
   "metadata": {},
   "source": [
    "##### Convert the data list in to pandas dataframe"
   ]
  },
  {
   "cell_type": "code",
   "execution_count": 12,
   "metadata": {},
   "outputs": [],
   "source": [
    "#del datadf\n",
    "#del packets\n",
    "datadf = pd.DataFrame(datalst)"
   ]
  },
  {
   "cell_type": "code",
   "execution_count": 13,
   "metadata": {},
   "outputs": [
    {
     "name": "stdout",
     "output_type": "stream",
     "text": [
      "(5998837, 39)\n"
     ]
    },
    {
     "data": {
      "text/html": [
       "<div>\n",
       "<style scoped>\n",
       "    .dataframe tbody tr th:only-of-type {\n",
       "        vertical-align: middle;\n",
       "    }\n",
       "\n",
       "    .dataframe tbody tr th {\n",
       "        vertical-align: top;\n",
       "    }\n",
       "\n",
       "    .dataframe thead th {\n",
       "        text-align: right;\n",
       "    }\n",
       "</style>\n",
       "<table border=\"1\" class=\"dataframe\">\n",
       "  <thead>\n",
       "    <tr style=\"text-align: right;\">\n",
       "      <th></th>\n",
       "      <th>id</th>\n",
       "      <th>len</th>\n",
       "      <th>timestamp</th>\n",
       "      <th>esrc</th>\n",
       "      <th>edst</th>\n",
       "      <th>etype</th>\n",
       "      <th>vlan</th>\n",
       "      <th>isrc</th>\n",
       "      <th>idst</th>\n",
       "      <th>iproto</th>\n",
       "      <th>...</th>\n",
       "      <th>bootpgiaddr</th>\n",
       "      <th>bootpchaddr</th>\n",
       "      <th>dhcpoptions</th>\n",
       "      <th>ntpmode</th>\n",
       "      <th>arpop</th>\n",
       "      <th>arpsrc</th>\n",
       "      <th>arpdst</th>\n",
       "      <th>arppsrc</th>\n",
       "      <th>arppdst</th>\n",
       "      <th>dnsopcode</th>\n",
       "    </tr>\n",
       "  </thead>\n",
       "  <tbody>\n",
       "    <tr>\n",
       "      <th>0</th>\n",
       "      <td>0</td>\n",
       "      <td>117</td>\n",
       "      <td>2012-03-16 18:00:00.000000</td>\n",
       "      <td>00:16:47:9d:f2:c2</td>\n",
       "      <td>00:0c:29:41:4b:e7</td>\n",
       "      <td>33024</td>\n",
       "      <td>120</td>\n",
       "      <td>192.168.229.254</td>\n",
       "      <td>192.168.202.79</td>\n",
       "      <td>6</td>\n",
       "      <td>...</td>\n",
       "      <td>NaN</td>\n",
       "      <td>NaN</td>\n",
       "      <td>NaN</td>\n",
       "      <td>NaN</td>\n",
       "      <td>NaN</td>\n",
       "      <td>NaN</td>\n",
       "      <td>NaN</td>\n",
       "      <td>NaN</td>\n",
       "      <td>NaN</td>\n",
       "      <td>NaN</td>\n",
       "    </tr>\n",
       "    <tr>\n",
       "      <th>1</th>\n",
       "      <td>1</td>\n",
       "      <td>269</td>\n",
       "      <td>2012-03-16 18:00:00.000000</td>\n",
       "      <td>00:0c:29:41:4b:e7</td>\n",
       "      <td>00:16:47:9d:f2:c2</td>\n",
       "      <td>33024</td>\n",
       "      <td>120</td>\n",
       "      <td>192.168.202.79</td>\n",
       "      <td>192.168.229.254</td>\n",
       "      <td>6</td>\n",
       "      <td>...</td>\n",
       "      <td>NaN</td>\n",
       "      <td>NaN</td>\n",
       "      <td>NaN</td>\n",
       "      <td>NaN</td>\n",
       "      <td>NaN</td>\n",
       "      <td>NaN</td>\n",
       "      <td>NaN</td>\n",
       "      <td>NaN</td>\n",
       "      <td>NaN</td>\n",
       "      <td>NaN</td>\n",
       "    </tr>\n",
       "    <tr>\n",
       "      <th>2</th>\n",
       "      <td>2</td>\n",
       "      <td>70</td>\n",
       "      <td>2012-03-16 18:00:00.000000</td>\n",
       "      <td>00:0c:29:41:4b:e7</td>\n",
       "      <td>00:16:47:9d:f2:c2</td>\n",
       "      <td>33024</td>\n",
       "      <td>120</td>\n",
       "      <td>192.168.202.79</td>\n",
       "      <td>192.168.229.251</td>\n",
       "      <td>6</td>\n",
       "      <td>...</td>\n",
       "      <td>NaN</td>\n",
       "      <td>NaN</td>\n",
       "      <td>NaN</td>\n",
       "      <td>NaN</td>\n",
       "      <td>NaN</td>\n",
       "      <td>NaN</td>\n",
       "      <td>NaN</td>\n",
       "      <td>NaN</td>\n",
       "      <td>NaN</td>\n",
       "      <td>NaN</td>\n",
       "    </tr>\n",
       "    <tr>\n",
       "      <th>3</th>\n",
       "      <td>3</td>\n",
       "      <td>70</td>\n",
       "      <td>2012-03-16 18:00:00.000000</td>\n",
       "      <td>00:16:47:9d:f2:c2</td>\n",
       "      <td>00:0c:29:41:4b:e7</td>\n",
       "      <td>33024</td>\n",
       "      <td>120</td>\n",
       "      <td>192.168.229.254</td>\n",
       "      <td>192.168.202.79</td>\n",
       "      <td>6</td>\n",
       "      <td>...</td>\n",
       "      <td>NaN</td>\n",
       "      <td>NaN</td>\n",
       "      <td>NaN</td>\n",
       "      <td>NaN</td>\n",
       "      <td>NaN</td>\n",
       "      <td>NaN</td>\n",
       "      <td>NaN</td>\n",
       "      <td>NaN</td>\n",
       "      <td>NaN</td>\n",
       "      <td>NaN</td>\n",
       "    </tr>\n",
       "    <tr>\n",
       "      <th>4</th>\n",
       "      <td>4</td>\n",
       "      <td>78</td>\n",
       "      <td>2012-03-16 18:00:00.000000</td>\n",
       "      <td>00:0c:29:41:4b:e7</td>\n",
       "      <td>00:16:47:9d:f2:c2</td>\n",
       "      <td>33024</td>\n",
       "      <td>120</td>\n",
       "      <td>192.168.202.79</td>\n",
       "      <td>192.168.229.251</td>\n",
       "      <td>6</td>\n",
       "      <td>...</td>\n",
       "      <td>NaN</td>\n",
       "      <td>NaN</td>\n",
       "      <td>NaN</td>\n",
       "      <td>NaN</td>\n",
       "      <td>NaN</td>\n",
       "      <td>NaN</td>\n",
       "      <td>NaN</td>\n",
       "      <td>NaN</td>\n",
       "      <td>NaN</td>\n",
       "      <td>NaN</td>\n",
       "    </tr>\n",
       "    <tr>\n",
       "      <th>5</th>\n",
       "      <td>5</td>\n",
       "      <td>217</td>\n",
       "      <td>2012-03-16 18:00:00.000000</td>\n",
       "      <td>00:0c:29:41:4b:e7</td>\n",
       "      <td>00:16:47:9d:f2:c2</td>\n",
       "      <td>33024</td>\n",
       "      <td>120</td>\n",
       "      <td>192.168.202.79</td>\n",
       "      <td>192.168.229.153</td>\n",
       "      <td>6</td>\n",
       "      <td>...</td>\n",
       "      <td>NaN</td>\n",
       "      <td>NaN</td>\n",
       "      <td>NaN</td>\n",
       "      <td>NaN</td>\n",
       "      <td>NaN</td>\n",
       "      <td>NaN</td>\n",
       "      <td>NaN</td>\n",
       "      <td>NaN</td>\n",
       "      <td>NaN</td>\n",
       "      <td>NaN</td>\n",
       "    </tr>\n",
       "    <tr>\n",
       "      <th>6</th>\n",
       "      <td>6</td>\n",
       "      <td>70</td>\n",
       "      <td>2012-03-16 18:00:00.000000</td>\n",
       "      <td>00:16:47:9d:f2:c2</td>\n",
       "      <td>00:0c:29:41:4b:e7</td>\n",
       "      <td>33024</td>\n",
       "      <td>120</td>\n",
       "      <td>192.168.229.251</td>\n",
       "      <td>192.168.202.79</td>\n",
       "      <td>6</td>\n",
       "      <td>...</td>\n",
       "      <td>NaN</td>\n",
       "      <td>NaN</td>\n",
       "      <td>NaN</td>\n",
       "      <td>NaN</td>\n",
       "      <td>NaN</td>\n",
       "      <td>NaN</td>\n",
       "      <td>NaN</td>\n",
       "      <td>NaN</td>\n",
       "      <td>NaN</td>\n",
       "      <td>NaN</td>\n",
       "    </tr>\n",
       "    <tr>\n",
       "      <th>7</th>\n",
       "      <td>7</td>\n",
       "      <td>178</td>\n",
       "      <td>2012-03-16 18:00:00.000000</td>\n",
       "      <td>00:16:47:9d:f2:c2</td>\n",
       "      <td>00:0c:29:41:4b:e7</td>\n",
       "      <td>33024</td>\n",
       "      <td>120</td>\n",
       "      <td>192.168.229.254</td>\n",
       "      <td>192.168.202.79</td>\n",
       "      <td>6</td>\n",
       "      <td>...</td>\n",
       "      <td>NaN</td>\n",
       "      <td>NaN</td>\n",
       "      <td>NaN</td>\n",
       "      <td>NaN</td>\n",
       "      <td>NaN</td>\n",
       "      <td>NaN</td>\n",
       "      <td>NaN</td>\n",
       "      <td>NaN</td>\n",
       "      <td>NaN</td>\n",
       "      <td>NaN</td>\n",
       "    </tr>\n",
       "    <tr>\n",
       "      <th>8</th>\n",
       "      <td>8</td>\n",
       "      <td>82</td>\n",
       "      <td>2012-03-16 18:00:00.000000</td>\n",
       "      <td>00:16:47:9d:f2:c2</td>\n",
       "      <td>00:0c:29:41:4b:e7</td>\n",
       "      <td>33024</td>\n",
       "      <td>120</td>\n",
       "      <td>192.168.229.251</td>\n",
       "      <td>192.168.202.79</td>\n",
       "      <td>6</td>\n",
       "      <td>...</td>\n",
       "      <td>NaN</td>\n",
       "      <td>NaN</td>\n",
       "      <td>NaN</td>\n",
       "      <td>NaN</td>\n",
       "      <td>NaN</td>\n",
       "      <td>NaN</td>\n",
       "      <td>NaN</td>\n",
       "      <td>NaN</td>\n",
       "      <td>NaN</td>\n",
       "      <td>NaN</td>\n",
       "    </tr>\n",
       "    <tr>\n",
       "      <th>9</th>\n",
       "      <td>9</td>\n",
       "      <td>120</td>\n",
       "      <td>2012-03-16 18:00:00.000000</td>\n",
       "      <td>00:16:47:9d:f2:c2</td>\n",
       "      <td>00:0c:29:41:4b:e7</td>\n",
       "      <td>33024</td>\n",
       "      <td>120</td>\n",
       "      <td>192.168.229.254</td>\n",
       "      <td>192.168.202.79</td>\n",
       "      <td>6</td>\n",
       "      <td>...</td>\n",
       "      <td>NaN</td>\n",
       "      <td>NaN</td>\n",
       "      <td>NaN</td>\n",
       "      <td>NaN</td>\n",
       "      <td>NaN</td>\n",
       "      <td>NaN</td>\n",
       "      <td>NaN</td>\n",
       "      <td>NaN</td>\n",
       "      <td>NaN</td>\n",
       "      <td>NaN</td>\n",
       "    </tr>\n",
       "  </tbody>\n",
       "</table>\n",
       "<p>10 rows × 39 columns</p>\n",
       "</div>"
      ],
      "text/plain": [
       "  id  len                   timestamp               esrc               edst  \\\n",
       "0  0  117  2012-03-16 18:00:00.000000  00:16:47:9d:f2:c2  00:0c:29:41:4b:e7   \n",
       "1  1  269  2012-03-16 18:00:00.000000  00:0c:29:41:4b:e7  00:16:47:9d:f2:c2   \n",
       "2  2   70  2012-03-16 18:00:00.000000  00:0c:29:41:4b:e7  00:16:47:9d:f2:c2   \n",
       "3  3   70  2012-03-16 18:00:00.000000  00:16:47:9d:f2:c2  00:0c:29:41:4b:e7   \n",
       "4  4   78  2012-03-16 18:00:00.000000  00:0c:29:41:4b:e7  00:16:47:9d:f2:c2   \n",
       "5  5  217  2012-03-16 18:00:00.000000  00:0c:29:41:4b:e7  00:16:47:9d:f2:c2   \n",
       "6  6   70  2012-03-16 18:00:00.000000  00:16:47:9d:f2:c2  00:0c:29:41:4b:e7   \n",
       "7  7  178  2012-03-16 18:00:00.000000  00:16:47:9d:f2:c2  00:0c:29:41:4b:e7   \n",
       "8  8   82  2012-03-16 18:00:00.000000  00:16:47:9d:f2:c2  00:0c:29:41:4b:e7   \n",
       "9  9  120  2012-03-16 18:00:00.000000  00:16:47:9d:f2:c2  00:0c:29:41:4b:e7   \n",
       "\n",
       "   etype vlan             isrc             idst iproto  ... bootpgiaddr  \\\n",
       "0  33024  120  192.168.229.254   192.168.202.79      6  ...         NaN   \n",
       "1  33024  120   192.168.202.79  192.168.229.254      6  ...         NaN   \n",
       "2  33024  120   192.168.202.79  192.168.229.251      6  ...         NaN   \n",
       "3  33024  120  192.168.229.254   192.168.202.79      6  ...         NaN   \n",
       "4  33024  120   192.168.202.79  192.168.229.251      6  ...         NaN   \n",
       "5  33024  120   192.168.202.79  192.168.229.153      6  ...         NaN   \n",
       "6  33024  120  192.168.229.251   192.168.202.79      6  ...         NaN   \n",
       "7  33024  120  192.168.229.254   192.168.202.79      6  ...         NaN   \n",
       "8  33024  120  192.168.229.251   192.168.202.79      6  ...         NaN   \n",
       "9  33024  120  192.168.229.254   192.168.202.79      6  ...         NaN   \n",
       "\n",
       "  bootpchaddr dhcpoptions ntpmode arpop arpsrc arpdst arppsrc arppdst  \\\n",
       "0         NaN         NaN     NaN   NaN    NaN    NaN     NaN     NaN   \n",
       "1         NaN         NaN     NaN   NaN    NaN    NaN     NaN     NaN   \n",
       "2         NaN         NaN     NaN   NaN    NaN    NaN     NaN     NaN   \n",
       "3         NaN         NaN     NaN   NaN    NaN    NaN     NaN     NaN   \n",
       "4         NaN         NaN     NaN   NaN    NaN    NaN     NaN     NaN   \n",
       "5         NaN         NaN     NaN   NaN    NaN    NaN     NaN     NaN   \n",
       "6         NaN         NaN     NaN   NaN    NaN    NaN     NaN     NaN   \n",
       "7         NaN         NaN     NaN   NaN    NaN    NaN     NaN     NaN   \n",
       "8         NaN         NaN     NaN   NaN    NaN    NaN     NaN     NaN   \n",
       "9         NaN         NaN     NaN   NaN    NaN    NaN     NaN     NaN   \n",
       "\n",
       "  dnsopcode  \n",
       "0       NaN  \n",
       "1       NaN  \n",
       "2       NaN  \n",
       "3       NaN  \n",
       "4       NaN  \n",
       "5       NaN  \n",
       "6       NaN  \n",
       "7       NaN  \n",
       "8       NaN  \n",
       "9       NaN  \n",
       "\n",
       "[10 rows x 39 columns]"
      ]
     },
     "execution_count": 13,
     "metadata": {},
     "output_type": "execute_result"
    }
   ],
   "source": [
    "print(datadf.shape)\n",
    "datadf.head(10)"
   ]
  },
  {
   "cell_type": "code",
   "execution_count": 14,
   "metadata": {},
   "outputs": [
    {
     "name": "stdout",
     "output_type": "stream",
     "text": [
      "['arpdst', 'arpop', 'arppdst', 'arppsrc', 'arpsrc', 'bootpchaddr', 'bootpciaddr', 'bootpgiaddr', 'bootpop', 'bootpsiaddr', 'bootpyiaddr', 'dhcpoptions', 'dnsopcode', 'edst', 'esrc', 'etype', 'icmpcode', 'icmptype', 'id', 'idst', 'iperrordst', 'iperrorproto', 'iperrorsrc', 'iplen', 'iproto', 'ipttl', 'isrc', 'len', 'ntpmode', 'tdport', 'timestamp', 'tsport', 'twindow', 'uerrordst', 'uerrorsrc', 'ulen', 'utdport', 'utsport', 'vlan']\n"
     ]
    }
   ],
   "source": [
    "print(sorted(datadf.columns))"
   ]
  },
  {
   "cell_type": "markdown",
   "metadata": {},
   "source": [
    "##### Write the data frame to a csv file, so that it can be read back for further analysis."
   ]
  },
  {
   "cell_type": "code",
   "execution_count": 15,
   "metadata": {},
   "outputs": [],
   "source": [
    "\n",
    "df_file = \"pcaps.csv\"\n",
    "\n",
    "datadf.to_csv(df_file)"
   ]
  },
  {
   "cell_type": "markdown",
   "metadata": {},
   "source": [
    "###### Please run Network_Traffic-Data_Analysis-1.ipynb after this"
   ]
  },
  {
   "cell_type": "code",
   "execution_count": null,
   "metadata": {},
   "outputs": [],
   "source": []
  }
 ],
 "metadata": {
  "kernelspec": {
   "display_name": "Python [conda env:root] *",
   "language": "python",
   "name": "conda-root-py"
  },
  "language_info": {
   "codemirror_mode": {
    "name": "ipython",
    "version": 3
   },
   "file_extension": ".py",
   "mimetype": "text/x-python",
   "name": "python",
   "nbconvert_exporter": "python",
   "pygments_lexer": "ipython3",
   "version": "3.8.5"
  }
 },
 "nbformat": 4,
 "nbformat_minor": 4
}
