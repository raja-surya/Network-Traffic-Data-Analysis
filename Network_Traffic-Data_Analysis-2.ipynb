{
 "cells": [
  {
   "cell_type": "markdown",
   "metadata": {},
   "source": [
    "# Case Study Part 2 : <br>Create Port Profiles and Clustering on Network Data Plane Traffic \n",
    "\n",
    "##### This notebook is to be run preferably after running  \n",
    "Network_Traffic-Data_Analysis-1.ipynb <br> where the first part of this case study is done and that will set a right context to understand the analysis done here.\n",
    "\n",
    "\n",
    "The packet data analysed here is taken from \n",
    "https://www.netresec.com/?page=MACCDC\n",
    "\n",
    "\n",
    "We follow the below steps\n",
    "#### 1. Create full port profiles for all the hosts\n",
    "#### 2. Use PCA to reduce the dimension of the port profiles \n",
    "#### 3. K-Means clustering of hosts based on the port profiles\n",
    "#### 4. Analysis of host Clusters\n"
   ]
  },
  {
   "cell_type": "code",
   "execution_count": 1,
   "metadata": {},
   "outputs": [],
   "source": [
    "import datetime\n",
    "import pandas as pd"
   ]
  },
  {
   "cell_type": "code",
   "execution_count": 2,
   "metadata": {},
   "outputs": [],
   "source": [
    "import matplotlib as plt\n",
    "import matplotlib.pyplot as pyplot\n",
    "\n",
    "import MyTrafficAnalyzer as myan"
   ]
  },
  {
   "cell_type": "markdown",
   "metadata": {},
   "source": [
    "Read the csv file containing packets data"
   ]
  },
  {
   "cell_type": "code",
   "execution_count": 3,
   "metadata": {},
   "outputs": [
    {
     "name": "stdout",
     "output_type": "stream",
     "text": [
      "['Unnamed: 0', 'arpdst', 'arpop', 'arppdst', 'arppsrc', 'arpsrc', 'bootpchaddr', 'bootpciaddr', 'bootpgiaddr', 'bootpop', 'bootpsiaddr', 'bootpyiaddr', 'dhcpoptions', 'dnsopcode', 'edst', 'esrc', 'etype', 'icmpcode', 'icmptype', 'id', 'idst', 'iperrordst', 'iperrorproto', 'iperrorsrc', 'iplen', 'iproto', 'ipttl', 'isrc', 'len', 'ntpmode', 'tdport', 'tsport', 'twindow', 'uerrordst', 'uerrorsrc', 'ulen', 'utdport', 'utsport', 'vlan']\n",
      "(5998837, 39)\n"
     ]
    }
   ],
   "source": [
    "df_file = \"pcaps.csv\"\n",
    "\n",
    "df = pd.read_csv(df_file, parse_dates=[\"timestamp\"], \\\n",
    "                 dtype=object, index_col=[\"timestamp\"])\n",
    "\n",
    "print(sorted(df.columns))\n",
    "print(df.shape)"
   ]
  },
  {
   "cell_type": "markdown",
   "metadata": {},
   "source": [
    "### 1. Create full port profiles for all the hosts\n",
    "\n",
    "Separate and collect data of ports used by each host in the data.\n",
    "It can be TCP or UDP, and source port or destination port."
   ]
  },
  {
   "cell_type": "code",
   "execution_count": 4,
   "metadata": {},
   "outputs": [
    {
     "data": {
      "text/html": [
       "<div>\n",
       "<style scoped>\n",
       "    .dataframe tbody tr th:only-of-type {\n",
       "        vertical-align: middle;\n",
       "    }\n",
       "\n",
       "    .dataframe tbody tr th {\n",
       "        vertical-align: top;\n",
       "    }\n",
       "\n",
       "    .dataframe thead th {\n",
       "        text-align: right;\n",
       "    }\n",
       "</style>\n",
       "<table border=\"1\" class=\"dataframe\">\n",
       "  <thead>\n",
       "    <tr style=\"text-align: right;\">\n",
       "      <th></th>\n",
       "      <th>host</th>\n",
       "      <th>ports</th>\n",
       "    </tr>\n",
       "    <tr>\n",
       "      <th>timestamp</th>\n",
       "      <th></th>\n",
       "      <th></th>\n",
       "    </tr>\n",
       "  </thead>\n",
       "  <tbody>\n",
       "    <tr>\n",
       "      <th>2012-03-16 18:00:00.000</th>\n",
       "      <td>192.168.229.254</td>\n",
       "      <td>46117</td>\n",
       "    </tr>\n",
       "    <tr>\n",
       "      <th>2012-03-16 18:00:00.000</th>\n",
       "      <td>192.168.202.79</td>\n",
       "      <td>443</td>\n",
       "    </tr>\n",
       "    <tr>\n",
       "      <th>2012-03-16 18:00:00.000</th>\n",
       "      <td>192.168.202.79</td>\n",
       "      <td>80</td>\n",
       "    </tr>\n",
       "    <tr>\n",
       "      <th>2012-03-16 18:00:00.000</th>\n",
       "      <td>192.168.229.254</td>\n",
       "      <td>46117</td>\n",
       "    </tr>\n",
       "    <tr>\n",
       "      <th>2012-03-16 18:00:00.000</th>\n",
       "      <td>192.168.202.79</td>\n",
       "      <td>80</td>\n",
       "    </tr>\n",
       "    <tr>\n",
       "      <th>...</th>\n",
       "      <td>...</td>\n",
       "      <td>...</td>\n",
       "    </tr>\n",
       "    <tr>\n",
       "      <th>2012-03-16 18:49:57.250</th>\n",
       "      <td>192.168.202.110</td>\n",
       "      <td>NaN</td>\n",
       "    </tr>\n",
       "    <tr>\n",
       "      <th>2012-03-16 18:49:57.250</th>\n",
       "      <td>192.168.27.253</td>\n",
       "      <td>NaN</td>\n",
       "    </tr>\n",
       "    <tr>\n",
       "      <th>2012-03-16 18:49:57.250</th>\n",
       "      <td>192.168.27.253</td>\n",
       "      <td>NaN</td>\n",
       "    </tr>\n",
       "    <tr>\n",
       "      <th>2012-03-16 18:49:57.250</th>\n",
       "      <td>192.168.27.253</td>\n",
       "      <td>NaN</td>\n",
       "    </tr>\n",
       "    <tr>\n",
       "      <th>2012-03-16 18:49:57.250</th>\n",
       "      <td>192.168.202.110</td>\n",
       "      <td>NaN</td>\n",
       "    </tr>\n",
       "  </tbody>\n",
       "</table>\n",
       "<p>23995348 rows × 2 columns</p>\n",
       "</div>"
      ],
      "text/plain": [
       "                                    host  ports\n",
       "timestamp                                      \n",
       "2012-03-16 18:00:00.000  192.168.229.254  46117\n",
       "2012-03-16 18:00:00.000   192.168.202.79    443\n",
       "2012-03-16 18:00:00.000   192.168.202.79     80\n",
       "2012-03-16 18:00:00.000  192.168.229.254  46117\n",
       "2012-03-16 18:00:00.000   192.168.202.79     80\n",
       "...                                  ...    ...\n",
       "2012-03-16 18:49:57.250  192.168.202.110    NaN\n",
       "2012-03-16 18:49:57.250   192.168.27.253    NaN\n",
       "2012-03-16 18:49:57.250   192.168.27.253    NaN\n",
       "2012-03-16 18:49:57.250   192.168.27.253    NaN\n",
       "2012-03-16 18:49:57.250  192.168.202.110    NaN\n",
       "\n",
       "[23995348 rows x 2 columns]"
      ]
     },
     "execution_count": 4,
     "metadata": {},
     "output_type": "execute_result"
    }
   ],
   "source": [
    "h=df[['isrc','tdport']].copy()\n",
    "h.rename(columns={\"isrc\": \"host\", \"tdport\": \"ports\"}, inplace=True)\n",
    "\n",
    "h1 = df[['isrc','tsport']].copy()\n",
    "h1.rename(columns={\"isrc\": \"host\", \"tsport\": \"ports\"}, inplace=True)\n",
    "\n",
    "h2 = df[['isrc','utsport']].copy()\n",
    "h2.rename(columns={\"isrc\": \"host\", \"utsport\": \"ports\"}, inplace=True)\n",
    "\n",
    "h3 = df[['isrc','utdport']].copy()\n",
    "h3.rename(columns={\"isrc\": \"host\", \"utdport\": \"ports\"}, inplace=True)\n",
    "\n",
    "h4 = pd.concat([h, h1, h2, h3])\n",
    "h4"
   ]
  },
  {
   "cell_type": "code",
   "execution_count": 5,
   "metadata": {},
   "outputs": [
    {
     "data": {
      "text/html": [
       "<div>\n",
       "<style scoped>\n",
       "    .dataframe tbody tr th:only-of-type {\n",
       "        vertical-align: middle;\n",
       "    }\n",
       "\n",
       "    .dataframe tbody tr th {\n",
       "        vertical-align: top;\n",
       "    }\n",
       "\n",
       "    .dataframe thead th {\n",
       "        text-align: right;\n",
       "    }\n",
       "</style>\n",
       "<table border=\"1\" class=\"dataframe\">\n",
       "  <thead>\n",
       "    <tr style=\"text-align: right;\">\n",
       "      <th></th>\n",
       "      <th>host</th>\n",
       "      <th>ports</th>\n",
       "    </tr>\n",
       "  </thead>\n",
       "  <tbody>\n",
       "    <tr>\n",
       "      <th>0</th>\n",
       "      <td>192.168.229.254</td>\n",
       "      <td>46117</td>\n",
       "    </tr>\n",
       "    <tr>\n",
       "      <th>1</th>\n",
       "      <td>192.168.202.79</td>\n",
       "      <td>443</td>\n",
       "    </tr>\n",
       "    <tr>\n",
       "      <th>2</th>\n",
       "      <td>192.168.202.79</td>\n",
       "      <td>80</td>\n",
       "    </tr>\n",
       "    <tr>\n",
       "      <th>5</th>\n",
       "      <td>192.168.202.79</td>\n",
       "      <td>445</td>\n",
       "    </tr>\n",
       "    <tr>\n",
       "      <th>6</th>\n",
       "      <td>192.168.229.251</td>\n",
       "      <td>50463</td>\n",
       "    </tr>\n",
       "    <tr>\n",
       "      <th>...</th>\n",
       "      <td>...</td>\n",
       "      <td>...</td>\n",
       "    </tr>\n",
       "    <tr>\n",
       "      <th>23848338</th>\n",
       "      <td>192.168.207.4</td>\n",
       "      <td>54037</td>\n",
       "    </tr>\n",
       "    <tr>\n",
       "      <th>23879334</th>\n",
       "      <td>192.168.207.4</td>\n",
       "      <td>44824</td>\n",
       "    </tr>\n",
       "    <tr>\n",
       "      <th>23912636</th>\n",
       "      <td>192.168.207.4</td>\n",
       "      <td>44472</td>\n",
       "    </tr>\n",
       "    <tr>\n",
       "      <th>23948549</th>\n",
       "      <td>192.168.207.4</td>\n",
       "      <td>58762</td>\n",
       "    </tr>\n",
       "    <tr>\n",
       "      <th>23984691</th>\n",
       "      <td>192.168.207.4</td>\n",
       "      <td>34901</td>\n",
       "    </tr>\n",
       "  </tbody>\n",
       "</table>\n",
       "<p>1575941 rows × 2 columns</p>\n",
       "</div>"
      ],
      "text/plain": [
       "                     host  ports\n",
       "0         192.168.229.254  46117\n",
       "1          192.168.202.79    443\n",
       "2          192.168.202.79     80\n",
       "5          192.168.202.79    445\n",
       "6         192.168.229.251  50463\n",
       "...                   ...    ...\n",
       "23848338    192.168.207.4  54037\n",
       "23879334    192.168.207.4  44824\n",
       "23912636    192.168.207.4  44472\n",
       "23948549    192.168.207.4  58762\n",
       "23984691    192.168.207.4  34901\n",
       "\n",
       "[1575941 rows x 2 columns]"
      ]
     },
     "execution_count": 5,
     "metadata": {},
     "output_type": "execute_result"
    }
   ],
   "source": [
    "h5 = h4.reset_index()\n",
    "del h5['timestamp']\n",
    "\n",
    "h6 = h5.drop_duplicates(['host', 'ports'])\n",
    "h7 = h6.dropna().copy()\n",
    "\n",
    "h7.ports = h7.ports.astype(str)\n",
    "h7.host = h7.host.astype(str)\n",
    "\n",
    "h7"
   ]
  },
  {
   "cell_type": "markdown",
   "metadata": {},
   "source": [
    "Create a new portprofile field from the dataframe above.\n",
    "We are simply listing all the ports associated with each host, regardless of protocol (TCP or UDP) and direction (source or destination)"
   ]
  },
  {
   "cell_type": "code",
   "execution_count": 6,
   "metadata": {},
   "outputs": [
    {
     "data": {
      "text/html": [
       "<div>\n",
       "<style scoped>\n",
       "    .dataframe tbody tr th:only-of-type {\n",
       "        vertical-align: middle;\n",
       "    }\n",
       "\n",
       "    .dataframe tbody tr th {\n",
       "        vertical-align: top;\n",
       "    }\n",
       "\n",
       "    .dataframe thead th {\n",
       "        text-align: right;\n",
       "    }\n",
       "</style>\n",
       "<table border=\"1\" class=\"dataframe\">\n",
       "  <thead>\n",
       "    <tr style=\"text-align: right;\">\n",
       "      <th></th>\n",
       "      <th>host</th>\n",
       "      <th>ports</th>\n",
       "      <th>portprofile</th>\n",
       "    </tr>\n",
       "  </thead>\n",
       "  <tbody>\n",
       "    <tr>\n",
       "      <th>0</th>\n",
       "      <td>192.168.229.254</td>\n",
       "      <td>46117</td>\n",
       "      <td>46117 46119 46121 46123 46125 46127 46129 4613...</td>\n",
       "    </tr>\n",
       "    <tr>\n",
       "      <th>1</th>\n",
       "      <td>192.168.202.79</td>\n",
       "      <td>443</td>\n",
       "      <td>443 80 445 135 139 143 1 25 53 88 110 3306 326...</td>\n",
       "    </tr>\n",
       "    <tr>\n",
       "      <th>2</th>\n",
       "      <td>192.168.202.79</td>\n",
       "      <td>80</td>\n",
       "      <td>443 80 445 135 139 143 1 25 53 88 110 3306 326...</td>\n",
       "    </tr>\n",
       "    <tr>\n",
       "      <th>5</th>\n",
       "      <td>192.168.202.79</td>\n",
       "      <td>445</td>\n",
       "      <td>443 80 445 135 139 143 1 25 53 88 110 3306 326...</td>\n",
       "    </tr>\n",
       "    <tr>\n",
       "      <th>6</th>\n",
       "      <td>192.168.229.251</td>\n",
       "      <td>50463</td>\n",
       "      <td>50463 50465 50467 50469 50471 50473 50475 5047...</td>\n",
       "    </tr>\n",
       "    <tr>\n",
       "      <th>...</th>\n",
       "      <td>...</td>\n",
       "      <td>...</td>\n",
       "      <td>...</td>\n",
       "    </tr>\n",
       "    <tr>\n",
       "      <th>23848338</th>\n",
       "      <td>192.168.207.4</td>\n",
       "      <td>54037</td>\n",
       "      <td>53 56773 1653 57144 58115 60440 56191 52891 42...</td>\n",
       "    </tr>\n",
       "    <tr>\n",
       "      <th>23879334</th>\n",
       "      <td>192.168.207.4</td>\n",
       "      <td>44824</td>\n",
       "      <td>53 56773 1653 57144 58115 60440 56191 52891 42...</td>\n",
       "    </tr>\n",
       "    <tr>\n",
       "      <th>23912636</th>\n",
       "      <td>192.168.207.4</td>\n",
       "      <td>44472</td>\n",
       "      <td>53 56773 1653 57144 58115 60440 56191 52891 42...</td>\n",
       "    </tr>\n",
       "    <tr>\n",
       "      <th>23948549</th>\n",
       "      <td>192.168.207.4</td>\n",
       "      <td>58762</td>\n",
       "      <td>53 56773 1653 57144 58115 60440 56191 52891 42...</td>\n",
       "    </tr>\n",
       "    <tr>\n",
       "      <th>23984691</th>\n",
       "      <td>192.168.207.4</td>\n",
       "      <td>34901</td>\n",
       "      <td>53 56773 1653 57144 58115 60440 56191 52891 42...</td>\n",
       "    </tr>\n",
       "  </tbody>\n",
       "</table>\n",
       "<p>1575941 rows × 3 columns</p>\n",
       "</div>"
      ],
      "text/plain": [
       "                     host  ports  \\\n",
       "0         192.168.229.254  46117   \n",
       "1          192.168.202.79    443   \n",
       "2          192.168.202.79     80   \n",
       "5          192.168.202.79    445   \n",
       "6         192.168.229.251  50463   \n",
       "...                   ...    ...   \n",
       "23848338    192.168.207.4  54037   \n",
       "23879334    192.168.207.4  44824   \n",
       "23912636    192.168.207.4  44472   \n",
       "23948549    192.168.207.4  58762   \n",
       "23984691    192.168.207.4  34901   \n",
       "\n",
       "                                                portprofile  \n",
       "0         46117 46119 46121 46123 46125 46127 46129 4613...  \n",
       "1         443 80 445 135 139 143 1 25 53 88 110 3306 326...  \n",
       "2         443 80 445 135 139 143 1 25 53 88 110 3306 326...  \n",
       "5         443 80 445 135 139 143 1 25 53 88 110 3306 326...  \n",
       "6         50463 50465 50467 50469 50471 50473 50475 5047...  \n",
       "...                                                     ...  \n",
       "23848338  53 56773 1653 57144 58115 60440 56191 52891 42...  \n",
       "23879334  53 56773 1653 57144 58115 60440 56191 52891 42...  \n",
       "23912636  53 56773 1653 57144 58115 60440 56191 52891 42...  \n",
       "23948549  53 56773 1653 57144 58115 60440 56191 52891 42...  \n",
       "23984691  53 56773 1653 57144 58115 60440 56191 52891 42...  \n",
       "\n",
       "[1575941 rows x 3 columns]"
      ]
     },
     "execution_count": 6,
     "metadata": {},
     "output_type": "execute_result"
    }
   ],
   "source": [
    "h7['portprofile'] = h7.groupby(['host'])['ports'].transform(lambda x: ' '.join(x))\n",
    "h7"
   ]
  },
  {
   "cell_type": "code",
   "execution_count": 7,
   "metadata": {},
   "outputs": [
    {
     "data": {
      "text/html": [
       "<div>\n",
       "<style scoped>\n",
       "    .dataframe tbody tr th:only-of-type {\n",
       "        vertical-align: middle;\n",
       "    }\n",
       "\n",
       "    .dataframe tbody tr th {\n",
       "        vertical-align: top;\n",
       "    }\n",
       "\n",
       "    .dataframe thead th {\n",
       "        text-align: right;\n",
       "    }\n",
       "</style>\n",
       "<table border=\"1\" class=\"dataframe\">\n",
       "  <thead>\n",
       "    <tr style=\"text-align: right;\">\n",
       "      <th></th>\n",
       "      <th>index</th>\n",
       "      <th>host</th>\n",
       "      <th>ports</th>\n",
       "      <th>portprofile</th>\n",
       "    </tr>\n",
       "  </thead>\n",
       "  <tbody>\n",
       "    <tr>\n",
       "      <th>0</th>\n",
       "      <td>0</td>\n",
       "      <td>192.168.229.254</td>\n",
       "      <td>46117</td>\n",
       "      <td>46117 46119 46121 46123 46125 46127 46129 4613...</td>\n",
       "    </tr>\n",
       "    <tr>\n",
       "      <th>1</th>\n",
       "      <td>1</td>\n",
       "      <td>192.168.202.79</td>\n",
       "      <td>443</td>\n",
       "      <td>443 80 445 135 139 143 1 25 53 88 110 3306 326...</td>\n",
       "    </tr>\n",
       "    <tr>\n",
       "      <th>2</th>\n",
       "      <td>6</td>\n",
       "      <td>192.168.229.251</td>\n",
       "      <td>50463</td>\n",
       "      <td>50463 50465 50467 50469 50471 50473 50475 5047...</td>\n",
       "    </tr>\n",
       "    <tr>\n",
       "      <th>3</th>\n",
       "      <td>14</td>\n",
       "      <td>192.168.229.153</td>\n",
       "      <td>55173</td>\n",
       "      <td>55173 59930 59931 59934 34494 59936 59962 5996...</td>\n",
       "    </tr>\n",
       "    <tr>\n",
       "      <th>4</th>\n",
       "      <td>505</td>\n",
       "      <td>192.168.202.76</td>\n",
       "      <td>40006</td>\n",
       "      <td>40006 40046 80 443 40030 40024 33033 40020 400...</td>\n",
       "    </tr>\n",
       "    <tr>\n",
       "      <th>...</th>\n",
       "      <td>...</td>\n",
       "      <td>...</td>\n",
       "      <td>...</td>\n",
       "      <td>...</td>\n",
       "    </tr>\n",
       "    <tr>\n",
       "      <th>165</th>\n",
       "      <td>13910211</td>\n",
       "      <td>192.168.202.108</td>\n",
       "      <td>50436</td>\n",
       "      <td>50436 51272 35757 54055 44705 44885 45921 4489...</td>\n",
       "    </tr>\n",
       "    <tr>\n",
       "      <th>166</th>\n",
       "      <td>14137103</td>\n",
       "      <td>192.168.202.57</td>\n",
       "      <td>50228</td>\n",
       "      <td>50228 5060</td>\n",
       "    </tr>\n",
       "    <tr>\n",
       "      <th>167</th>\n",
       "      <td>15627811</td>\n",
       "      <td>192.168.202.115</td>\n",
       "      <td>137</td>\n",
       "      <td>137 138 50216 53</td>\n",
       "    </tr>\n",
       "    <tr>\n",
       "      <th>168</th>\n",
       "      <td>16509486</td>\n",
       "      <td>192.168.202.116</td>\n",
       "      <td>34664</td>\n",
       "      <td>34664 55500 37213 123 68 53 67</td>\n",
       "    </tr>\n",
       "    <tr>\n",
       "      <th>169</th>\n",
       "      <td>17589626</td>\n",
       "      <td>192.168.11.1</td>\n",
       "      <td>123</td>\n",
       "      <td>123</td>\n",
       "    </tr>\n",
       "  </tbody>\n",
       "</table>\n",
       "<p>170 rows × 4 columns</p>\n",
       "</div>"
      ],
      "text/plain": [
       "        index             host  ports  \\\n",
       "0           0  192.168.229.254  46117   \n",
       "1           1   192.168.202.79    443   \n",
       "2           6  192.168.229.251  50463   \n",
       "3          14  192.168.229.153  55173   \n",
       "4         505   192.168.202.76  40006   \n",
       "..        ...              ...    ...   \n",
       "165  13910211  192.168.202.108  50436   \n",
       "166  14137103   192.168.202.57  50228   \n",
       "167  15627811  192.168.202.115    137   \n",
       "168  16509486  192.168.202.116  34664   \n",
       "169  17589626     192.168.11.1    123   \n",
       "\n",
       "                                           portprofile  \n",
       "0    46117 46119 46121 46123 46125 46127 46129 4613...  \n",
       "1    443 80 445 135 139 143 1 25 53 88 110 3306 326...  \n",
       "2    50463 50465 50467 50469 50471 50473 50475 5047...  \n",
       "3    55173 59930 59931 59934 34494 59936 59962 5996...  \n",
       "4    40006 40046 80 443 40030 40024 33033 40020 400...  \n",
       "..                                                 ...  \n",
       "165  50436 51272 35757 54055 44705 44885 45921 4489...  \n",
       "166                                         50228 5060  \n",
       "167                                   137 138 50216 53  \n",
       "168                     34664 55500 37213 123 68 53 67  \n",
       "169                                                123  \n",
       "\n",
       "[170 rows x 4 columns]"
      ]
     },
     "execution_count": 7,
     "metadata": {},
     "output_type": "execute_result"
    }
   ],
   "source": [
    "h8 = h7.drop_duplicates(['host', 'portprofile']).reset_index().copy()\n",
    "h8"
   ]
  },
  {
   "cell_type": "code",
   "execution_count": 8,
   "metadata": {},
   "outputs": [
    {
     "data": {
      "text/html": [
       "<div>\n",
       "<style scoped>\n",
       "    .dataframe tbody tr th:only-of-type {\n",
       "        vertical-align: middle;\n",
       "    }\n",
       "\n",
       "    .dataframe tbody tr th {\n",
       "        vertical-align: top;\n",
       "    }\n",
       "\n",
       "    .dataframe thead th {\n",
       "        text-align: right;\n",
       "    }\n",
       "</style>\n",
       "<table border=\"1\" class=\"dataframe\">\n",
       "  <thead>\n",
       "    <tr style=\"text-align: right;\">\n",
       "      <th></th>\n",
       "      <th>host</th>\n",
       "      <th>portprofile</th>\n",
       "    </tr>\n",
       "  </thead>\n",
       "  <tbody>\n",
       "    <tr>\n",
       "      <th>0</th>\n",
       "      <td>192.168.229.254</td>\n",
       "      <td>46117 46119 46121 46123 46125 46127 46129 4613...</td>\n",
       "    </tr>\n",
       "    <tr>\n",
       "      <th>1</th>\n",
       "      <td>192.168.202.79</td>\n",
       "      <td>443 80 445 135 139 143 1 25 53 88 110 3306 326...</td>\n",
       "    </tr>\n",
       "    <tr>\n",
       "      <th>2</th>\n",
       "      <td>192.168.229.251</td>\n",
       "      <td>50463 50465 50467 50469 50471 50473 50475 5047...</td>\n",
       "    </tr>\n",
       "    <tr>\n",
       "      <th>3</th>\n",
       "      <td>192.168.229.153</td>\n",
       "      <td>55173 59930 59931 59934 34494 59936 59962 5996...</td>\n",
       "    </tr>\n",
       "    <tr>\n",
       "      <th>4</th>\n",
       "      <td>192.168.202.76</td>\n",
       "      <td>40006 40046 80 443 40030 40024 33033 40020 400...</td>\n",
       "    </tr>\n",
       "    <tr>\n",
       "      <th>...</th>\n",
       "      <td>...</td>\n",
       "      <td>...</td>\n",
       "    </tr>\n",
       "    <tr>\n",
       "      <th>165</th>\n",
       "      <td>192.168.202.108</td>\n",
       "      <td>50436 51272 35757 54055 44705 44885 45921 4489...</td>\n",
       "    </tr>\n",
       "    <tr>\n",
       "      <th>166</th>\n",
       "      <td>192.168.202.57</td>\n",
       "      <td>50228 5060</td>\n",
       "    </tr>\n",
       "    <tr>\n",
       "      <th>167</th>\n",
       "      <td>192.168.202.115</td>\n",
       "      <td>137 138 50216 53</td>\n",
       "    </tr>\n",
       "    <tr>\n",
       "      <th>168</th>\n",
       "      <td>192.168.202.116</td>\n",
       "      <td>34664 55500 37213 123 68 53 67</td>\n",
       "    </tr>\n",
       "    <tr>\n",
       "      <th>169</th>\n",
       "      <td>192.168.11.1</td>\n",
       "      <td>123</td>\n",
       "    </tr>\n",
       "  </tbody>\n",
       "</table>\n",
       "<p>170 rows × 2 columns</p>\n",
       "</div>"
      ],
      "text/plain": [
       "                host                                        portprofile\n",
       "0    192.168.229.254  46117 46119 46121 46123 46125 46127 46129 4613...\n",
       "1     192.168.202.79  443 80 445 135 139 143 1 25 53 88 110 3306 326...\n",
       "2    192.168.229.251  50463 50465 50467 50469 50471 50473 50475 5047...\n",
       "3    192.168.229.153  55173 59930 59931 59934 34494 59936 59962 5996...\n",
       "4     192.168.202.76  40006 40046 80 443 40030 40024 33033 40020 400...\n",
       "..               ...                                                ...\n",
       "165  192.168.202.108  50436 51272 35757 54055 44705 44885 45921 4489...\n",
       "166   192.168.202.57                                         50228 5060\n",
       "167  192.168.202.115                                   137 138 50216 53\n",
       "168  192.168.202.116                     34664 55500 37213 123 68 53 67\n",
       "169     192.168.11.1                                                123\n",
       "\n",
       "[170 rows x 2 columns]"
      ]
     },
     "execution_count": 8,
     "metadata": {},
     "output_type": "execute_result"
    }
   ],
   "source": [
    "del h8['ports']\n",
    "del h8['index']\n",
    "h8"
   ]
  },
  {
   "cell_type": "markdown",
   "metadata": {},
   "source": [
    "We have successfully created the Port Profile for each host in the network. We have port profiles for 170 hosts.<br>\n",
    "\n",
    "We will use sklearn CountVectorizer to encode the portprofiles of each host as counts (Bag of words) of each port."
   ]
  },
  {
   "cell_type": "code",
   "execution_count": 9,
   "metadata": {},
   "outputs": [
    {
     "name": "stdout",
     "output_type": "stream",
     "text": [
      "  (0, 40128)\t1\n",
      "  (0, 40130)\t1\n",
      "  (0, 40133)\t1\n",
      "  (0, 40135)\t1\n",
      "  (0, 40137)\t1\n",
      "  (0, 40139)\t1\n",
      "  (0, 40141)\t1\n",
      "  (0, 40144)\t1\n",
      "  (0, 40146)\t1\n",
      "  (0, 40148)\t1\n",
      "  (0, 40150)\t1\n",
      "  (0, 40152)\t1\n",
      "  (0, 40155)\t1\n",
      "  (0, 40157)\t1\n",
      "  (0, 40159)\t1\n",
      "  (0, 40161)\t1\n",
      "  (0, 40163)\t1\n",
      "  (0, 40166)\t1\n",
      "  (0, 40168)\t1\n",
      "  (0, 40170)\t1\n",
      "  (0, 40173)\t1\n",
      "  (0, 40176)\t1\n",
      "  (0, 40178)\t1\n",
      "  (0, 40180)\t1\n",
      "  (0, 40182)\t1\n",
      "  :\t:\n",
      "  (165, 37355)\t1\n",
      "  (165, 35460)\t1\n",
      "  (165, 42251)\t1\n",
      "  (165, 30003)\t1\n",
      "  (165, 32819)\t1\n",
      "  (165, 42658)\t1\n",
      "  (165, 27227)\t1\n",
      "  (165, 35833)\t1\n",
      "  (165, 38728)\t1\n",
      "  (165, 40911)\t1\n",
      "  (165, 25758)\t1\n",
      "  (166, 45108)\t1\n",
      "  (166, 44695)\t1\n",
      "  (167, 47773)\t1\n",
      "  (167, 4222)\t1\n",
      "  (167, 4111)\t1\n",
      "  (167, 44682)\t1\n",
      "  (168, 47773)\t1\n",
      "  (168, 27403)\t1\n",
      "  (168, 30236)\t1\n",
      "  (168, 61863)\t1\n",
      "  (168, 2556)\t1\n",
      "  (168, 50553)\t1\n",
      "  (168, 61974)\t1\n",
      "  (169, 2556)\t1\n"
     ]
    },
    {
     "data": {
      "text/plain": [
       "(170, 65526)"
      ]
     },
     "execution_count": 9,
     "metadata": {},
     "output_type": "execute_result"
    }
   ],
   "source": [
    "from sklearn.feature_extraction.text import CountVectorizer\n",
    "\n",
    "vectorizer = CountVectorizer()\n",
    "\n",
    "word_transform = vectorizer.fit_transform(h8['portprofile'])\n",
    "\n",
    "print(word_transform)\n",
    "word_transform.shape"
   ]
  },
  {
   "cell_type": "code",
   "execution_count": 10,
   "metadata": {},
   "outputs": [
    {
     "name": "stdout",
     "output_type": "stream",
     "text": [
      "[[0 0 0 ... 0 0 0]\n",
      " [1 1 1 ... 1 1 1]\n",
      " [1 1 1 ... 1 1 1]\n",
      " ...\n",
      " [0 0 0 ... 0 0 0]\n",
      " [0 0 0 ... 0 0 0]\n",
      " [0 0 0 ... 0 0 0]]\n",
      "(170, 65526)\n"
     ]
    }
   ],
   "source": [
    "X_matrix = word_transform.todense()\n",
    "print(X_matrix)\n",
    "print(X_matrix.shape)"
   ]
  },
  {
   "cell_type": "markdown",
   "metadata": {},
   "source": [
    "We have formed a encoding matrix above. For each host, <br> \n",
    "there is an array of length 65526 (entire range of available ports) and each element of the array indicates whether that port is part of the port profile. "
   ]
  },
  {
   "cell_type": "markdown",
   "metadata": {},
   "source": [
    "### 2. Use PCA to reduce the dimension of the port profile from 65526."
   ]
  },
  {
   "cell_type": "code",
   "execution_count": 11,
   "metadata": {},
   "outputs": [
    {
     "data": {
      "text/plain": [
       "array([0.85682762, 0.0298984 , 0.02593426, 0.01198774, 0.00970201,\n",
       "       0.00745108, 0.00726868, 0.00580077, 0.00494286, 0.00451533,\n",
       "       0.00366498, 0.00310417, 0.00268973, 0.00252869, 0.0017856 ,\n",
       "       0.00174349, 0.00116714, 0.00114043, 0.00102734, 0.00095487])"
      ]
     },
     "execution_count": 11,
     "metadata": {},
     "output_type": "execute_result"
    }
   ],
   "source": [
    "from sklearn.decomposition import PCA\n",
    "\n",
    "pca = PCA(n_components=20)\n",
    "pca.fit(X_matrix)\n",
    "pca.explained_variance_ratio_"
   ]
  },
  {
   "cell_type": "markdown",
   "metadata": {},
   "source": [
    "We see most of the variance is explained by just one variable. Let's take two as pca1 and pca2 for further analysis."
   ]
  },
  {
   "cell_type": "code",
   "execution_count": 12,
   "metadata": {},
   "outputs": [
    {
     "name": "stdout",
     "output_type": "stream",
     "text": [
      "170\n",
      "170\n"
     ]
    }
   ],
   "source": [
    "pca_data = PCA(n_components=2).fit_transform(X_matrix)\n",
    "\n",
    "pca1=[]\n",
    "pca2=[]\n",
    "\n",
    "#print(pca_data)\n",
    "#print(pca_data.shape)\n",
    "\n",
    "for i in pca_data:\n",
    "    pca1.append(i[0])\n",
    "    pca2.append(i[1])\n",
    "    \n",
    "print(len(pca1))\n",
    "print(len(pca2))"
   ]
  },
  {
   "cell_type": "code",
   "execution_count": 13,
   "metadata": {},
   "outputs": [
    {
     "data": {
      "text/html": [
       "<div>\n",
       "<style scoped>\n",
       "    .dataframe tbody tr th:only-of-type {\n",
       "        vertical-align: middle;\n",
       "    }\n",
       "\n",
       "    .dataframe tbody tr th {\n",
       "        vertical-align: top;\n",
       "    }\n",
       "\n",
       "    .dataframe thead th {\n",
       "        text-align: right;\n",
       "    }\n",
       "</style>\n",
       "<table border=\"1\" class=\"dataframe\">\n",
       "  <thead>\n",
       "    <tr style=\"text-align: right;\">\n",
       "      <th></th>\n",
       "      <th>host</th>\n",
       "      <th>portprofile</th>\n",
       "      <th>pca1</th>\n",
       "      <th>pca2</th>\n",
       "    </tr>\n",
       "  </thead>\n",
       "  <tbody>\n",
       "    <tr>\n",
       "      <th>0</th>\n",
       "      <td>192.168.229.254</td>\n",
       "      <td>46117 46119 46121 46123 46125 46127 46129 4613...</td>\n",
       "      <td>-28.658177</td>\n",
       "      <td>-9.093016</td>\n",
       "    </tr>\n",
       "    <tr>\n",
       "      <th>1</th>\n",
       "      <td>192.168.202.79</td>\n",
       "      <td>443 80 445 135 139 143 1 25 53 88 110 3306 326...</td>\n",
       "      <td>219.954846</td>\n",
       "      <td>-4.411324</td>\n",
       "    </tr>\n",
       "  </tbody>\n",
       "</table>\n",
       "</div>"
      ],
      "text/plain": [
       "              host                                        portprofile  \\\n",
       "0  192.168.229.254  46117 46119 46121 46123 46125 46127 46129 4613...   \n",
       "1   192.168.202.79  443 80 445 135 139 143 1 25 53 88 110 3306 326...   \n",
       "\n",
       "         pca1      pca2  \n",
       "0  -28.658177 -9.093016  \n",
       "1  219.954846 -4.411324  "
      ]
     },
     "execution_count": 13,
     "metadata": {},
     "output_type": "execute_result"
    }
   ],
   "source": [
    "h8['pca1'] = pca1\n",
    "h8['pca2'] = pca2\n",
    "\n",
    "h8[:2]"
   ]
  },
  {
   "cell_type": "code",
   "execution_count": 14,
   "metadata": {},
   "outputs": [
    {
     "data": {
      "text/html": [
       "<div>\n",
       "<style scoped>\n",
       "    .dataframe tbody tr th:only-of-type {\n",
       "        vertical-align: middle;\n",
       "    }\n",
       "\n",
       "    .dataframe tbody tr th {\n",
       "        vertical-align: top;\n",
       "    }\n",
       "\n",
       "    .dataframe thead th {\n",
       "        text-align: right;\n",
       "    }\n",
       "</style>\n",
       "<table border=\"1\" class=\"dataframe\">\n",
       "  <thead>\n",
       "    <tr style=\"text-align: right;\">\n",
       "      <th></th>\n",
       "      <th>pca1</th>\n",
       "      <th>pca2</th>\n",
       "    </tr>\n",
       "  </thead>\n",
       "  <tbody>\n",
       "    <tr>\n",
       "      <th>count</th>\n",
       "      <td>1.700000e+02</td>\n",
       "      <td>1.700000e+02</td>\n",
       "    </tr>\n",
       "    <tr>\n",
       "      <th>mean</th>\n",
       "      <td>-2.653835e-12</td>\n",
       "      <td>-5.704822e-13</td>\n",
       "    </tr>\n",
       "    <tr>\n",
       "      <th>std</th>\n",
       "      <td>8.186048e+01</td>\n",
       "      <td>1.529155e+01</td>\n",
       "    </tr>\n",
       "    <tr>\n",
       "      <th>min</th>\n",
       "      <td>-3.549001e+01</td>\n",
       "      <td>-1.534886e+01</td>\n",
       "    </tr>\n",
       "    <tr>\n",
       "      <th>25%</th>\n",
       "      <td>-3.535740e+01</td>\n",
       "      <td>-1.270867e+01</td>\n",
       "    </tr>\n",
       "    <tr>\n",
       "      <th>50%</th>\n",
       "      <td>-3.299875e+01</td>\n",
       "      <td>-4.411324e+00</td>\n",
       "    </tr>\n",
       "    <tr>\n",
       "      <th>75%</th>\n",
       "      <td>-2.964123e+01</td>\n",
       "      <td>1.155242e+01</td>\n",
       "    </tr>\n",
       "    <tr>\n",
       "      <th>max</th>\n",
       "      <td>2.199548e+02</td>\n",
       "      <td>8.409725e+01</td>\n",
       "    </tr>\n",
       "  </tbody>\n",
       "</table>\n",
       "</div>"
      ],
      "text/plain": [
       "               pca1          pca2\n",
       "count  1.700000e+02  1.700000e+02\n",
       "mean  -2.653835e-12 -5.704822e-13\n",
       "std    8.186048e+01  1.529155e+01\n",
       "min   -3.549001e+01 -1.534886e+01\n",
       "25%   -3.535740e+01 -1.270867e+01\n",
       "50%   -3.299875e+01 -4.411324e+00\n",
       "75%   -2.964123e+01  1.155242e+01\n",
       "max    2.199548e+02  8.409725e+01"
      ]
     },
     "execution_count": 14,
     "metadata": {},
     "output_type": "execute_result"
    }
   ],
   "source": [
    "h8.describe()"
   ]
  },
  {
   "cell_type": "markdown",
   "metadata": {},
   "source": [
    "##### Plot the hosts across the new \"Port Profile\" dimensions pca1 and pca2 "
   ]
  },
  {
   "cell_type": "code",
   "execution_count": 15,
   "metadata": {},
   "outputs": [
    {
     "data": {
      "image/png": "[encoded data removed]",
      "text/plain": [
       "<Figure size 576x288 with 1 Axes>"
      ]
     },
     "metadata": {
      "needs_background": "light"
     },
     "output_type": "display_data"
    }
   ],
   "source": [
    "import matplotlib.pyplot as plt\n",
    "%matplotlib inline\n",
    "plt.rcParams[\"figure.figsize\"] = (8,4)\n",
    "plt.scatter(h8['pca2'], h8['pca1'], s=8, color='blue',label=\"All Hosts\")\n",
    "plt.legend(bbox_to_anchor=(1.005, 1), loc=2, borderaxespad=0.)\n",
    "plt.show()"
   ]
  },
  {
   "cell_type": "markdown",
   "metadata": {},
   "source": [
    "We can see some clusters formed above with few outliers."
   ]
  },
  {
   "cell_type": "markdown",
   "metadata": {},
   "source": [
    "### 3. K-Means clustering of hosts based on the port profile"
   ]
  },
  {
   "cell_type": "markdown",
   "metadata": {},
   "source": [
    "Let us evaluate the optimum number of clusters by elbow method."
   ]
  },
  {
   "cell_type": "code",
   "execution_count": 16,
   "metadata": {},
   "outputs": [
    {
     "name": "stderr",
     "output_type": "stream",
     "text": [
      "C:\\Users\\rajar\\anaconda3\\lib\\site-packages\\sklearn\\cluster\\_kmeans.py:881: UserWarning: KMeans is known to have a memory leak on Windows with MKL, when there are less chunks than available threads. You can avoid it by setting the environment variable OMP_NUM_THREADS=1.\n",
      "  warnings.warn(\n"
     ]
    }
   ],
   "source": [
    "import numpy as np\n",
    "from scipy.spatial.distance import cdist\n",
    "from sklearn.cluster import KMeans\n",
    "tightness = []\n",
    "possibleKs = range(1,10)\n",
    "pca_matrix=np.array(h8[['pca2','pca1']])\n",
    "\n",
    "for k in possibleKs:\n",
    "    km = KMeans(n_clusters=k).fit(pca_matrix)\n",
    "    tightness.append(sum(np.min(cdist(pca_matrix, \\\n",
    "      km.cluster_centers_, 'euclidean'), axis=1)) / pca_matrix.shape[0])"
   ]
  },
  {
   "cell_type": "code",
   "execution_count": 17,
   "metadata": {},
   "outputs": [
    {
     "data": {
      "image/png": "[encoded data removed]",
      "text/plain": [
       "<Figure size 576x288 with 1 Axes>"
      ]
     },
     "metadata": {
      "needs_background": "light"
     },
     "output_type": "display_data"
    }
   ],
   "source": [
    "pyplot.plot(possibleKs, tightness, 'bx-')\n",
    "pyplot.xlabel('Choice of K')\n",
    "pyplot.ylabel('Cluster Tightness')\n",
    "pyplot.title('Elbow Method to find Optimal K Value')\n",
    "pyplot.show()"
   ]
  },
  {
   "cell_type": "markdown",
   "metadata": {},
   "source": [
    "K=4 seems to be the right choice for clustering. Let us go ahead with clustering with four clusters"
   ]
  },
  {
   "cell_type": "code",
   "execution_count": 18,
   "metadata": {},
   "outputs": [],
   "source": [
    "kclusters=4\n",
    "km = KMeans(n_clusters=kclusters,n_init=200,random_state=0)\n",
    "km.fit_predict(pca_matrix)\n",
    "h8['kcluster']=km.labels_.tolist()"
   ]
  },
  {
   "cell_type": "code",
   "execution_count": 19,
   "metadata": {},
   "outputs": [
    {
     "name": "stdout",
     "output_type": "stream",
     "text": [
      "[[ 57.63539166  82.77903221]\n",
      " [ 12.2601372  -29.73362557]\n",
      " [ -5.0588896  212.31761841]\n",
      " [-12.49518979 -34.61226224]]\n"
     ]
    }
   ],
   "source": [
    "C_matrix=km.cluster_centers_\n",
    "print(C_matrix)"
   ]
  },
  {
   "cell_type": "markdown",
   "metadata": {},
   "source": [
    "Let us identify the outliers in the clusters, based on the distance from the nearest cluster center.\n",
    "\n",
    "We will take 2% cutoff to identify hosts considering maximum distance from the nearest cluster center"
   ]
  },
  {
   "cell_type": "code",
   "execution_count": 20,
   "metadata": {},
   "outputs": [
    {
     "data": {
      "text/html": [
       "<div>\n",
       "<style scoped>\n",
       "    .dataframe tbody tr th:only-of-type {\n",
       "        vertical-align: middle;\n",
       "    }\n",
       "\n",
       "    .dataframe tbody tr th {\n",
       "        vertical-align: top;\n",
       "    }\n",
       "\n",
       "    .dataframe thead th {\n",
       "        text-align: right;\n",
       "    }\n",
       "</style>\n",
       "<table border=\"1\" class=\"dataframe\">\n",
       "  <thead>\n",
       "    <tr style=\"text-align: right;\">\n",
       "      <th></th>\n",
       "      <th>host</th>\n",
       "      <th>c0</th>\n",
       "      <th>c1</th>\n",
       "      <th>c2</th>\n",
       "      <th>c3</th>\n",
       "    </tr>\n",
       "  </thead>\n",
       "  <tbody>\n",
       "    <tr>\n",
       "      <th>0</th>\n",
       "      <td>192.168.229.254</td>\n",
       "      <td>129.888152</td>\n",
       "      <td>21.380219</td>\n",
       "      <td>241.009560</td>\n",
       "      <td>6.857545</td>\n",
       "    </tr>\n",
       "    <tr>\n",
       "      <th>1</th>\n",
       "      <td>192.168.202.79</td>\n",
       "      <td>150.555634</td>\n",
       "      <td>250.244422</td>\n",
       "      <td>7.664633</td>\n",
       "      <td>254.695429</td>\n",
       "    </tr>\n",
       "  </tbody>\n",
       "</table>\n",
       "</div>"
      ],
      "text/plain": [
       "              host          c0          c1          c2          c3\n",
       "0  192.168.229.254  129.888152   21.380219  241.009560    6.857545\n",
       "1   192.168.202.79  150.555634  250.244422    7.664633  254.695429"
      ]
     },
     "execution_count": 20,
     "metadata": {},
     "output_type": "execute_result"
    }
   ],
   "source": [
    "import scipy\n",
    "cluster_distance=scipy.spatial.distance.cdist(pca_matrix, C_matrix)\n",
    "distancecheck=pd.DataFrame(cluster_distance,index=h8.host, \\\n",
    "                           columns=['c0','c1','c2','c3'])\n",
    "d2=distancecheck.reset_index()\n",
    "d2[:2]\n",
    "#cluster_distance"
   ]
  },
  {
   "cell_type": "code",
   "execution_count": 21,
   "metadata": {},
   "outputs": [
    {
     "data": {
      "text/html": [
       "<div>\n",
       "<style scoped>\n",
       "    .dataframe tbody tr th:only-of-type {\n",
       "        vertical-align: middle;\n",
       "    }\n",
       "\n",
       "    .dataframe tbody tr th {\n",
       "        vertical-align: top;\n",
       "    }\n",
       "\n",
       "    .dataframe thead th {\n",
       "        text-align: right;\n",
       "    }\n",
       "</style>\n",
       "<table border=\"1\" class=\"dataframe\">\n",
       "  <thead>\n",
       "    <tr style=\"text-align: right;\">\n",
       "      <th></th>\n",
       "      <th>host</th>\n",
       "      <th>min_dist</th>\n",
       "    </tr>\n",
       "  </thead>\n",
       "  <tbody>\n",
       "    <tr>\n",
       "      <th>15</th>\n",
       "      <td>192.168.27.101</td>\n",
       "      <td>61.403170</td>\n",
       "    </tr>\n",
       "    <tr>\n",
       "      <th>130</th>\n",
       "      <td>192.168.203.45</td>\n",
       "      <td>57.806756</td>\n",
       "    </tr>\n",
       "    <tr>\n",
       "      <th>74</th>\n",
       "      <td>192.168.27.100</td>\n",
       "      <td>53.451434</td>\n",
       "    </tr>\n",
       "  </tbody>\n",
       "</table>\n",
       "</div>"
      ],
      "text/plain": [
       "               host   min_dist\n",
       "15   192.168.27.101  61.403170\n",
       "130  192.168.203.45  57.806756\n",
       "74   192.168.27.100  53.451434"
      ]
     },
     "execution_count": 21,
     "metadata": {},
     "output_type": "execute_result"
    }
   ],
   "source": [
    "outlier_cutoff=0.02  # Two percent\n",
    "d2['min_dist'] = d2[['c0','c1','c2','c3']].min(axis=1)\n",
    "d3=d2.drop(['c0','c1','c2','c3'],axis=1)\n",
    "d4=d3.sort_values(by='min_dist', ascending=False)\n",
    "topoutliers=int(len(h8)*outlier_cutoff)\n",
    "d5=d4[:topoutliers] \n",
    "outliers=list(d5.host)\n",
    "d5"
   ]
  },
  {
   "cell_type": "code",
   "execution_count": 22,
   "metadata": {},
   "outputs": [
    {
     "name": "stdout",
     "output_type": "stream",
     "text": [
      "['192.168.27.101', '192.168.203.45', '192.168.27.100']\n",
      "3\n"
     ]
    }
   ],
   "source": [
    "print(outliers)\n",
    "print(topoutliers)"
   ]
  },
  {
   "cell_type": "markdown",
   "metadata": {},
   "source": [
    "We have identified 3 outliers among the hosts"
   ]
  },
  {
   "cell_type": "markdown",
   "metadata": {},
   "source": [
    "Let us go ahead to plot the clusters identified via K-Means"
   ]
  },
  {
   "cell_type": "code",
   "execution_count": 24,
   "metadata": {},
   "outputs": [
    {
     "data": {
      "text/html": [
       "<div>\n",
       "<style scoped>\n",
       "    .dataframe tbody tr th:only-of-type {\n",
       "        vertical-align: middle;\n",
       "    }\n",
       "\n",
       "    .dataframe tbody tr th {\n",
       "        vertical-align: top;\n",
       "    }\n",
       "\n",
       "    .dataframe thead th {\n",
       "        text-align: right;\n",
       "    }\n",
       "</style>\n",
       "<table border=\"1\" class=\"dataframe\">\n",
       "  <thead>\n",
       "    <tr style=\"text-align: right;\">\n",
       "      <th></th>\n",
       "      <th>host</th>\n",
       "      <th>portprofile</th>\n",
       "      <th>pca1</th>\n",
       "      <th>pca2</th>\n",
       "      <th>kcluster</th>\n",
       "    </tr>\n",
       "  </thead>\n",
       "  <tbody>\n",
       "    <tr>\n",
       "      <th>0</th>\n",
       "      <td>192.168.229.254</td>\n",
       "      <td>46117 46119 46121 46123 46125 46127 46129 4613...</td>\n",
       "      <td>-28.658177</td>\n",
       "      <td>-9.093016</td>\n",
       "      <td>3</td>\n",
       "    </tr>\n",
       "    <tr>\n",
       "      <th>1</th>\n",
       "      <td>192.168.202.79</td>\n",
       "      <td>443 80 445 135 139 143 1 25 53 88 110 3306 326...</td>\n",
       "      <td>219.954846</td>\n",
       "      <td>-4.411324</td>\n",
       "      <td>2</td>\n",
       "    </tr>\n",
       "    <tr>\n",
       "      <th>2</th>\n",
       "      <td>192.168.229.251</td>\n",
       "      <td>50463 50465 50467 50469 50471 50473 50475 5047...</td>\n",
       "      <td>219.954846</td>\n",
       "      <td>-4.411324</td>\n",
       "      <td>2</td>\n",
       "    </tr>\n",
       "    <tr>\n",
       "      <th>3</th>\n",
       "      <td>192.168.229.153</td>\n",
       "      <td>55173 59930 59931 59934 34494 59936 59962 5996...</td>\n",
       "      <td>219.954846</td>\n",
       "      <td>-4.411324</td>\n",
       "      <td>2</td>\n",
       "    </tr>\n",
       "    <tr>\n",
       "      <th>4</th>\n",
       "      <td>192.168.202.76</td>\n",
       "      <td>40006 40046 80 443 40030 40024 33033 40020 400...</td>\n",
       "      <td>-25.694812</td>\n",
       "      <td>-6.807290</td>\n",
       "      <td>3</td>\n",
       "    </tr>\n",
       "  </tbody>\n",
       "</table>\n",
       "</div>"
      ],
      "text/plain": [
       "              host                                        portprofile  \\\n",
       "0  192.168.229.254  46117 46119 46121 46123 46125 46127 46129 4613...   \n",
       "1   192.168.202.79  443 80 445 135 139 143 1 25 53 88 110 3306 326...   \n",
       "2  192.168.229.251  50463 50465 50467 50469 50471 50473 50475 5047...   \n",
       "3  192.168.229.153  55173 59930 59931 59934 34494 59936 59962 5996...   \n",
       "4   192.168.202.76  40006 40046 80 443 40030 40024 33033 40020 400...   \n",
       "\n",
       "         pca1      pca2  kcluster  \n",
       "0  -28.658177 -9.093016         3  \n",
       "1  219.954846 -4.411324         2  \n",
       "2  219.954846 -4.411324         2  \n",
       "3  219.954846 -4.411324         2  \n",
       "4  -25.694812 -6.807290         3  "
      ]
     },
     "execution_count": 24,
     "metadata": {},
     "output_type": "execute_result"
    }
   ],
   "source": [
    "h8.head(5)"
   ]
  },
  {
   "cell_type": "code",
   "execution_count": 25,
   "metadata": {},
   "outputs": [],
   "source": [
    "\n",
    "### Create separate data frames for each cluster\n",
    "\n",
    "df0=h8[h8.kcluster==0]\n",
    "df1=h8[h8.kcluster==1]\n",
    "df2=h8[h8.kcluster==2]\n",
    "df3=h8[h8.kcluster==3]\n",
    "outlier_df=h8[h8.host.isin(outliers)]\n",
    "#df4=h8[h8.kcluster==4]\n",
    "#df5=h8[h8.kcluster==5]"
   ]
  },
  {
   "cell_type": "code",
   "execution_count": 26,
   "metadata": {},
   "outputs": [
    {
     "data": {
      "text/html": [
       "<div>\n",
       "<style scoped>\n",
       "    .dataframe tbody tr th:only-of-type {\n",
       "        vertical-align: middle;\n",
       "    }\n",
       "\n",
       "    .dataframe tbody tr th {\n",
       "        vertical-align: top;\n",
       "    }\n",
       "\n",
       "    .dataframe thead th {\n",
       "        text-align: right;\n",
       "    }\n",
       "</style>\n",
       "<table border=\"1\" class=\"dataframe\">\n",
       "  <thead>\n",
       "    <tr style=\"text-align: right;\">\n",
       "      <th></th>\n",
       "      <th>host</th>\n",
       "      <th>portprofile</th>\n",
       "      <th>pca1</th>\n",
       "      <th>pca2</th>\n",
       "      <th>kcluster</th>\n",
       "    </tr>\n",
       "  </thead>\n",
       "  <tbody>\n",
       "    <tr>\n",
       "      <th>15</th>\n",
       "      <td>192.168.27.101</td>\n",
       "      <td>45691 45692 40244 39843 22281 54127 12345 1234...</td>\n",
       "      <td>151.181532</td>\n",
       "      <td>-10.779756</td>\n",
       "      <td>2</td>\n",
       "    </tr>\n",
       "    <tr>\n",
       "      <th>74</th>\n",
       "      <td>192.168.27.100</td>\n",
       "      <td>43767 38828 39977 54004 45162 53897 39463 4226...</td>\n",
       "      <td>90.271440</td>\n",
       "      <td>4.711676</td>\n",
       "      <td>0</td>\n",
       "    </tr>\n",
       "    <tr>\n",
       "      <th>130</th>\n",
       "      <td>192.168.203.45</td>\n",
       "      <td>51701 32912 51703 51705 51706 37988 37989 3799...</td>\n",
       "      <td>12.699583</td>\n",
       "      <td>51.516269</td>\n",
       "      <td>1</td>\n",
       "    </tr>\n",
       "  </tbody>\n",
       "</table>\n",
       "</div>"
      ],
      "text/plain": [
       "               host                                        portprofile  \\\n",
       "15   192.168.27.101  45691 45692 40244 39843 22281 54127 12345 1234...   \n",
       "74   192.168.27.100  43767 38828 39977 54004 45162 53897 39463 4226...   \n",
       "130  192.168.203.45  51701 32912 51703 51705 51706 37988 37989 3799...   \n",
       "\n",
       "           pca1       pca2  kcluster  \n",
       "15   151.181532 -10.779756         2  \n",
       "74    90.271440   4.711676         0  \n",
       "130   12.699583  51.516269         1  "
      ]
     },
     "execution_count": 26,
     "metadata": {},
     "output_type": "execute_result"
    }
   ],
   "source": [
    "outlier_df"
   ]
  },
  {
   "cell_type": "markdown",
   "metadata": {},
   "source": [
    "Plot without specifically marking the outliers."
   ]
  },
  {
   "cell_type": "code",
   "execution_count": 27,
   "metadata": {},
   "outputs": [
    {
     "data": {
      "image/png": "[encoded data removed]",
      "text/plain": [
       "<Figure size 576x288 with 1 Axes>"
      ]
     },
     "metadata": {
      "needs_background": "light"
     },
     "output_type": "display_data"
    }
   ],
   "source": [
    "plt.rcParams[\"figure.figsize\"] = (8,4)\n",
    "pyplot.scatter(df0['pca2'],df0['pca1'],s=10,label=\"cl 0\")\n",
    "pyplot.scatter(df1['pca2'],df1['pca1'],s=10,marker=\"<\",label=\"cl 1\")\n",
    "pyplot.scatter(df2['pca2'],df2['pca1'],s=10,marker=\"^\",label=\"cl 2\")\n",
    "pyplot.scatter(df3['pca2'],df3['pca1'],s=10,marker=\"D\",label=\"cl 3\")\n",
    "\n",
    "pyplot.legend(bbox_to_anchor=(1.005, 1), loc=2, borderaxespad=0.)\n",
    "pyplot.show()"
   ]
  },
  {
   "cell_type": "markdown",
   "metadata": {},
   "source": [
    "Plot clusters specifically identifying outliers"
   ]
  },
  {
   "cell_type": "code",
   "execution_count": 28,
   "metadata": {},
   "outputs": [
    {
     "data": {
      "image/png": "[encoded data removed]",
      "text/plain": [
       "<Figure size 576x288 with 1 Axes>"
      ]
     },
     "metadata": {
      "needs_background": "light"
     },
     "output_type": "display_data"
    }
   ],
   "source": [
    "plt.rcParams[\"figure.figsize\"] = (8,4)\n",
    "pyplot.scatter(df0['pca2'],df0['pca1'],s=10,label=\"cl 0\")\n",
    "pyplot.scatter(df1['pca2'],df1['pca1'],s=10,marker=\"<\",label=\"cl 1\")\n",
    "pyplot.scatter(df2['pca2'],df2['pca1'],s=10,marker=\"^\",label=\"cl 2\")\n",
    "pyplot.scatter(df3['pca2'],df3['pca1'],s=10,marker=\"D\",label=\"cl 3\")\n",
    "pyplot.scatter(outlier_df['pca2'],outlier_df['pca1'],s=50,marker=\"X\",label=\"Out\")\n",
    "\n",
    "pyplot.legend(bbox_to_anchor=(1.005, 1), loc=2, borderaxespad=0.)\n",
    "pyplot.show()"
   ]
  },
  {
   "cell_type": "code",
   "execution_count": null,
   "metadata": {},
   "outputs": [],
   "source": []
  },
  {
   "cell_type": "markdown",
   "metadata": {},
   "source": [
    "### 4. Analysis Of Host Clusters"
   ]
  },
  {
   "cell_type": "markdown",
   "metadata": {},
   "source": [
    "Let us check cluster 0 hosts."
   ]
  },
  {
   "cell_type": "code",
   "execution_count": 29,
   "metadata": {},
   "outputs": [
    {
     "data": {
      "text/html": [
       "<div>\n",
       "<style scoped>\n",
       "    .dataframe tbody tr th:only-of-type {\n",
       "        vertical-align: middle;\n",
       "    }\n",
       "\n",
       "    .dataframe tbody tr th {\n",
       "        vertical-align: top;\n",
       "    }\n",
       "\n",
       "    .dataframe thead th {\n",
       "        text-align: right;\n",
       "    }\n",
       "</style>\n",
       "<table border=\"1\" class=\"dataframe\">\n",
       "  <thead>\n",
       "    <tr style=\"text-align: right;\">\n",
       "      <th></th>\n",
       "      <th>host</th>\n",
       "      <th>portprofile</th>\n",
       "      <th>pca1</th>\n",
       "      <th>pca2</th>\n",
       "      <th>kcluster</th>\n",
       "    </tr>\n",
       "  </thead>\n",
       "  <tbody>\n",
       "    <tr>\n",
       "      <th>47</th>\n",
       "      <td>192.168.202.83</td>\n",
       "      <td>80 443 3389 1723 3306 110 993 256 8888 139 135...</td>\n",
       "      <td>79.032829</td>\n",
       "      <td>84.097249</td>\n",
       "      <td>0</td>\n",
       "    </tr>\n",
       "    <tr>\n",
       "      <th>48</th>\n",
       "      <td>192.168.206.44</td>\n",
       "      <td>53839 40497 39173 47342 38162 37552 50492 3495...</td>\n",
       "      <td>79.032829</td>\n",
       "      <td>84.097249</td>\n",
       "      <td>0</td>\n",
       "    </tr>\n",
       "    <tr>\n",
       "      <th>74</th>\n",
       "      <td>192.168.27.100</td>\n",
       "      <td>43767 38828 39977 54004 45162 53897 39463 4226...</td>\n",
       "      <td>90.271440</td>\n",
       "      <td>4.711676</td>\n",
       "      <td>0</td>\n",
       "    </tr>\n",
       "  </tbody>\n",
       "</table>\n",
       "</div>"
      ],
      "text/plain": [
       "              host                                        portprofile  \\\n",
       "47  192.168.202.83  80 443 3389 1723 3306 110 993 256 8888 139 135...   \n",
       "48  192.168.206.44  53839 40497 39173 47342 38162 37552 50492 3495...   \n",
       "74  192.168.27.100  43767 38828 39977 54004 45162 53897 39463 4226...   \n",
       "\n",
       "         pca1       pca2  kcluster  \n",
       "47  79.032829  84.097249         0  \n",
       "48  79.032829  84.097249         0  \n",
       "74  90.271440   4.711676         0  "
      ]
     },
     "execution_count": 29,
     "metadata": {},
     "output_type": "execute_result"
    }
   ],
   "source": [
    "df0"
   ]
  },
  {
   "cell_type": "code",
   "execution_count": 30,
   "metadata": {},
   "outputs": [
    {
     "name": "stdout",
     "output_type": "stream",
     "text": [
      "47    26.725717\n",
      "Name: min_dist, dtype: float64\n",
      "48    26.725717\n",
      "Name: min_dist, dtype: float64\n",
      "74    53.451434\n",
      "Name: min_dist, dtype: float64\n"
     ]
    }
   ],
   "source": [
    "print(d4[d4.host=='192.168.202.83'].min_dist)\n",
    "print(d4[d4.host=='192.168.206.44'].min_dist)\n",
    "\n",
    "print(d4[d4.host=='192.168.27.100'].min_dist)"
   ]
  },
  {
   "cell_type": "markdown",
   "metadata": {},
   "source": [
    "Cluster 0 is interesting. \n",
    "Visually it appears as two entries, but it contains three hosts, \n",
    "because 192.168.202.83 and 192.168.206.44 are co-located at same point in the cluster.\n",
    "\n",
    "We have already noted down these two hosts in part-1 of this case study.\n",
    "\n",
    "The third host 192.168.27.100 in this cluster is one of the outliers."
   ]
  },
  {
   "cell_type": "code",
   "execution_count": 31,
   "metadata": {},
   "outputs": [
    {
     "name": "stdout",
     "output_type": "stream",
     "text": [
      "Note-1 : Is the host 192.168.202.83 targeting or scanning 192.168.206.44 ? \n",
      "\n",
      "Note-2 : Hosts ending with .254 look like VMware servers using port 22 and 443. 192.168.202.76 appears to be a scanner targeting these hosts \n",
      "\n",
      "Potential Scanners List : ['192.168.202.83', '192.168.202.76', '192.168.202.110', '192.168.203.45', '192.168.204.45', '192.168.202.102', '192.168.202.73', '192.168.202.81']\n",
      "\n",
      "Possible Servers List : ['192.168.201.2', '192.168.202.78', '192.168.205.253', '192.168.206.44', '192.168.207.4', '192.168.21.102', '192.168.21.103', '192.168.21.152', '192.168.21.202', '192.168.21.203', '192.168.21.252', '192.168.21.253', '192.168.21.254', '192.168.22.1', '192.168.22.100', '192.168.22.101', '192.168.22.102', '192.168.22.103', '192.168.22.152', '192.168.22.202', '192.168.22.25', '192.168.22.252', '192.168.22.253', '192.168.22.254', '192.168.229.254', '192.168.23.1', '192.168.23.100', '192.168.23.101', '192.168.23.102', '192.168.23.103', '192.168.23.152', '192.168.23.202', '192.168.23.203', '192.168.23.25', '192.168.23.253', '192.168.23.254', '192.168.24.1', '192.168.24.101', '192.168.24.102', '192.168.24.103', '192.168.24.152', '192.168.24.202', '192.168.24.203', '192.168.24.25', '192.168.24.252', '192.168.24.253', '192.168.24.254', '192.168.25.1', '192.168.25.253', '192.168.26.1', '192.168.26.101', '192.168.26.102', '192.168.26.103', '192.168.26.152', '192.168.26.202', '192.168.26.203', '192.168.26.25', '192.168.26.252', '192.168.26.253', '192.168.26.254', '192.168.27.254', '192.168.28.1', '192.168.28.101', '192.168.28.102', '192.168.28.103', '192.168.28.152', '192.168.28.202', '192.168.28.203', '192.168.28.25', '192.168.28.252', '192.168.28.253', '192.168.28.254']\n",
      "\n",
      "Possible Clients List : ['192.168.202.100', '192.168.202.101', '192.168.202.103', '192.168.202.109', '192.168.202.73', '192.168.202.76', '192.168.202.81', '192.168.202.83', '192.168.202.90', '192.168.202.91', '192.168.202.93', '192.168.202.96', '192.168.203.62']\n",
      "\n"
     ]
    }
   ],
   "source": [
    "# Read the Observations file which contains the observations recorded in part-1 of the case study.\n",
    "\n",
    "file = open(\"Observations.txt\",\"r\")\n",
    "\n",
    "notes = file.readlines()\n",
    "file.close()\n",
    "for i in notes:\n",
    "    print(i)"
   ]
  },
  {
   "cell_type": "markdown",
   "metadata": {},
   "source": [
    "##### So if you see Note-1 above, the two hosts in cluster 3 are none but the potential scanner and it's target host. <br>\n",
    "\n",
    "\n",
    "We can recognize that we have built \n",
    "###### a clustering method that is showing affinity groups of items that are communicating with each other. \n",
    "The unordered source and destination port profiles of these two hosts 192.168.202.83 and 192.168.206.44 are the same and hence the pca1 and pca2 values too. "
   ]
  },
  {
   "cell_type": "markdown",
   "metadata": {},
   "source": [
    "##### Let us verify the Note-2 found above and see how the hosts ending with .254 are grouped."
   ]
  },
  {
   "cell_type": "code",
   "execution_count": 32,
   "metadata": {},
   "outputs": [
    {
     "data": {
      "text/html": [
       "<div>\n",
       "<style scoped>\n",
       "    .dataframe tbody tr th:only-of-type {\n",
       "        vertical-align: middle;\n",
       "    }\n",
       "\n",
       "    .dataframe tbody tr th {\n",
       "        vertical-align: top;\n",
       "    }\n",
       "\n",
       "    .dataframe thead th {\n",
       "        text-align: right;\n",
       "    }\n",
       "</style>\n",
       "<table border=\"1\" class=\"dataframe\">\n",
       "  <thead>\n",
       "    <tr style=\"text-align: right;\">\n",
       "      <th></th>\n",
       "      <th>host</th>\n",
       "      <th>portprofile</th>\n",
       "      <th>pca1</th>\n",
       "      <th>pca2</th>\n",
       "      <th>kcluster</th>\n",
       "    </tr>\n",
       "  </thead>\n",
       "  <tbody>\n",
       "    <tr>\n",
       "      <th>0</th>\n",
       "      <td>192.168.229.254</td>\n",
       "      <td>46117 46119 46121 46123 46125 46127 46129 4613...</td>\n",
       "      <td>-28.658177</td>\n",
       "      <td>-9.093016</td>\n",
       "      <td>3</td>\n",
       "    </tr>\n",
       "    <tr>\n",
       "      <th>17</th>\n",
       "      <td>192.168.28.254</td>\n",
       "      <td>53633 51272 51283 51284 51285 46586 46597 4659...</td>\n",
       "      <td>-35.004870</td>\n",
       "      <td>-12.472509</td>\n",
       "      <td>3</td>\n",
       "    </tr>\n",
       "    <tr>\n",
       "      <th>23</th>\n",
       "      <td>192.168.23.254</td>\n",
       "      <td>35820 53768 53773 53774 53798 53799 53800 5380...</td>\n",
       "      <td>-35.154597</td>\n",
       "      <td>-12.577218</td>\n",
       "      <td>3</td>\n",
       "    </tr>\n",
       "    <tr>\n",
       "      <th>24</th>\n",
       "      <td>192.168.26.254</td>\n",
       "      <td>36254 22113 45992 45997 54061 54065 54066 5407...</td>\n",
       "      <td>-35.161569</td>\n",
       "      <td>-12.590854</td>\n",
       "      <td>3</td>\n",
       "    </tr>\n",
       "    <tr>\n",
       "      <th>62</th>\n",
       "      <td>192.168.22.254</td>\n",
       "      <td>52953 52954 52956 52958 52963 52964 52965 5296...</td>\n",
       "      <td>-34.997219</td>\n",
       "      <td>-12.493521</td>\n",
       "      <td>3</td>\n",
       "    </tr>\n",
       "    <tr>\n",
       "      <th>65</th>\n",
       "      <td>192.168.21.254</td>\n",
       "      <td>36605 36606 49494 49495 53601 53605 53606 5361...</td>\n",
       "      <td>-34.921522</td>\n",
       "      <td>-12.394248</td>\n",
       "      <td>3</td>\n",
       "    </tr>\n",
       "    <tr>\n",
       "      <th>127</th>\n",
       "      <td>192.168.24.254</td>\n",
       "      <td>54754 21623 53893 53898 53899 53908 53909 5391...</td>\n",
       "      <td>-35.165732</td>\n",
       "      <td>-12.585674</td>\n",
       "      <td>3</td>\n",
       "    </tr>\n",
       "    <tr>\n",
       "      <th>128</th>\n",
       "      <td>192.168.27.254</td>\n",
       "      <td>22358 41061 41062 41064 54186 54188 54189 5419...</td>\n",
       "      <td>-35.213195</td>\n",
       "      <td>-12.615898</td>\n",
       "      <td>3</td>\n",
       "    </tr>\n",
       "    <tr>\n",
       "      <th>141</th>\n",
       "      <td>192.168.25.254</td>\n",
       "      <td>56983 52365 22 443</td>\n",
       "      <td>-35.481671</td>\n",
       "      <td>-12.765354</td>\n",
       "      <td>3</td>\n",
       "    </tr>\n",
       "    <tr>\n",
       "      <th>147</th>\n",
       "      <td>192.168.1.254</td>\n",
       "      <td>1900</td>\n",
       "      <td>-35.489940</td>\n",
       "      <td>-12.781709</td>\n",
       "      <td>3</td>\n",
       "    </tr>\n",
       "  </tbody>\n",
       "</table>\n",
       "</div>"
      ],
      "text/plain": [
       "                host                                        portprofile  \\\n",
       "0    192.168.229.254  46117 46119 46121 46123 46125 46127 46129 4613...   \n",
       "17    192.168.28.254  53633 51272 51283 51284 51285 46586 46597 4659...   \n",
       "23    192.168.23.254  35820 53768 53773 53774 53798 53799 53800 5380...   \n",
       "24    192.168.26.254  36254 22113 45992 45997 54061 54065 54066 5407...   \n",
       "62    192.168.22.254  52953 52954 52956 52958 52963 52964 52965 5296...   \n",
       "65    192.168.21.254  36605 36606 49494 49495 53601 53605 53606 5361...   \n",
       "127   192.168.24.254  54754 21623 53893 53898 53899 53908 53909 5391...   \n",
       "128   192.168.27.254  22358 41061 41062 41064 54186 54188 54189 5419...   \n",
       "141   192.168.25.254                                 56983 52365 22 443   \n",
       "147    192.168.1.254                                               1900   \n",
       "\n",
       "          pca1       pca2  kcluster  \n",
       "0   -28.658177  -9.093016         3  \n",
       "17  -35.004870 -12.472509         3  \n",
       "23  -35.154597 -12.577218         3  \n",
       "24  -35.161569 -12.590854         3  \n",
       "62  -34.997219 -12.493521         3  \n",
       "65  -34.921522 -12.394248         3  \n",
       "127 -35.165732 -12.585674         3  \n",
       "128 -35.213195 -12.615898         3  \n",
       "141 -35.481671 -12.765354         3  \n",
       "147 -35.489940 -12.781709         3  "
      ]
     },
     "execution_count": 32,
     "metadata": {},
     "output_type": "execute_result"
    }
   ],
   "source": [
    "h8[h8.host.str.endswith(\"254\")]"
   ]
  },
  {
   "cell_type": "markdown",
   "metadata": {},
   "source": [
    "##### Above, we see that all the hosts ending with .254 are grouped together as part of Cluster 3."
   ]
  },
  {
   "cell_type": "markdown",
   "metadata": {},
   "source": [
    "From the same Note-2, We saw that 192.168.202.76 is the host which has mostly targeted servers with address ending with .254. <br><br>\n",
    "##### As expected, we see that this host is also in cluster 3."
   ]
  },
  {
   "cell_type": "code",
   "execution_count": 33,
   "metadata": {},
   "outputs": [
    {
     "data": {
      "text/html": [
       "<div>\n",
       "<style scoped>\n",
       "    .dataframe tbody tr th:only-of-type {\n",
       "        vertical-align: middle;\n",
       "    }\n",
       "\n",
       "    .dataframe tbody tr th {\n",
       "        vertical-align: top;\n",
       "    }\n",
       "\n",
       "    .dataframe thead th {\n",
       "        text-align: right;\n",
       "    }\n",
       "</style>\n",
       "<table border=\"1\" class=\"dataframe\">\n",
       "  <thead>\n",
       "    <tr style=\"text-align: right;\">\n",
       "      <th></th>\n",
       "      <th>host</th>\n",
       "      <th>portprofile</th>\n",
       "      <th>pca1</th>\n",
       "      <th>pca2</th>\n",
       "      <th>kcluster</th>\n",
       "    </tr>\n",
       "  </thead>\n",
       "  <tbody>\n",
       "    <tr>\n",
       "      <th>4</th>\n",
       "      <td>192.168.202.76</td>\n",
       "      <td>40006 40046 80 443 40030 40024 33033 40020 400...</td>\n",
       "      <td>-25.694812</td>\n",
       "      <td>-6.80729</td>\n",
       "      <td>3</td>\n",
       "    </tr>\n",
       "  </tbody>\n",
       "</table>\n",
       "</div>"
      ],
      "text/plain": [
       "             host                                        portprofile  \\\n",
       "4  192.168.202.76  40006 40046 80 443 40030 40024 33033 40020 400...   \n",
       "\n",
       "        pca1     pca2  kcluster  \n",
       "4 -25.694812 -6.80729         3  "
      ]
     },
     "execution_count": 33,
     "metadata": {},
     "output_type": "execute_result"
    }
   ],
   "source": [
    "h8[h8.host=='192.168.202.76']"
   ]
  },
  {
   "cell_type": "markdown",
   "metadata": {},
   "source": [
    "##### Let us plot the clusters identifying the suspected scanners"
   ]
  },
  {
   "cell_type": "code",
   "execution_count": 34,
   "metadata": {},
   "outputs": [
    {
     "data": {
      "text/html": [
       "<div>\n",
       "<style scoped>\n",
       "    .dataframe tbody tr th:only-of-type {\n",
       "        vertical-align: middle;\n",
       "    }\n",
       "\n",
       "    .dataframe tbody tr th {\n",
       "        vertical-align: top;\n",
       "    }\n",
       "\n",
       "    .dataframe thead th {\n",
       "        text-align: right;\n",
       "    }\n",
       "</style>\n",
       "<table border=\"1\" class=\"dataframe\">\n",
       "  <thead>\n",
       "    <tr style=\"text-align: right;\">\n",
       "      <th></th>\n",
       "      <th>host</th>\n",
       "      <th>portprofile</th>\n",
       "      <th>pca1</th>\n",
       "      <th>pca2</th>\n",
       "      <th>kcluster</th>\n",
       "    </tr>\n",
       "  </thead>\n",
       "  <tbody>\n",
       "    <tr>\n",
       "      <th>4</th>\n",
       "      <td>192.168.202.76</td>\n",
       "      <td>40006 40046 80 443 40030 40024 33033 40020 400...</td>\n",
       "      <td>-25.694812</td>\n",
       "      <td>-6.807290</td>\n",
       "      <td>3</td>\n",
       "    </tr>\n",
       "    <tr>\n",
       "      <th>47</th>\n",
       "      <td>192.168.202.83</td>\n",
       "      <td>80 443 3389 1723 3306 110 993 256 8888 139 135...</td>\n",
       "      <td>79.032829</td>\n",
       "      <td>84.097249</td>\n",
       "      <td>0</td>\n",
       "    </tr>\n",
       "    <tr>\n",
       "      <th>49</th>\n",
       "      <td>192.168.202.81</td>\n",
       "      <td>55553 17065 445 9200 12110 28024 8154 19885 13...</td>\n",
       "      <td>-11.454007</td>\n",
       "      <td>5.199480</td>\n",
       "      <td>1</td>\n",
       "    </tr>\n",
       "    <tr>\n",
       "      <th>77</th>\n",
       "      <td>192.168.202.73</td>\n",
       "      <td>445 443 80 39101 47680 56356 39189 45107 57191...</td>\n",
       "      <td>-19.530366</td>\n",
       "      <td>-2.007686</td>\n",
       "      <td>1</td>\n",
       "    </tr>\n",
       "    <tr>\n",
       "      <th>126</th>\n",
       "      <td>192.168.202.102</td>\n",
       "      <td>80 23 443 21 22 25 3389 110 445 139 143 53 912...</td>\n",
       "      <td>-14.977118</td>\n",
       "      <td>-15.348857</td>\n",
       "      <td>3</td>\n",
       "    </tr>\n",
       "    <tr>\n",
       "      <th>129</th>\n",
       "      <td>192.168.202.110</td>\n",
       "      <td>1337 31337 5432 443 80 256 111 1720 554 135 10...</td>\n",
       "      <td>219.954846</td>\n",
       "      <td>-4.411324</td>\n",
       "      <td>2</td>\n",
       "    </tr>\n",
       "    <tr>\n",
       "      <th>130</th>\n",
       "      <td>192.168.203.45</td>\n",
       "      <td>51701 32912 51703 51705 51706 37988 37989 3799...</td>\n",
       "      <td>12.699583</td>\n",
       "      <td>51.516269</td>\n",
       "      <td>1</td>\n",
       "    </tr>\n",
       "    <tr>\n",
       "      <th>135</th>\n",
       "      <td>192.168.204.45</td>\n",
       "      <td>5432 80 443 554 111 587 1720 5900 22 113 21 19...</td>\n",
       "      <td>219.954846</td>\n",
       "      <td>-4.411324</td>\n",
       "      <td>2</td>\n",
       "    </tr>\n",
       "  </tbody>\n",
       "</table>\n",
       "</div>"
      ],
      "text/plain": [
       "                host                                        portprofile  \\\n",
       "4     192.168.202.76  40006 40046 80 443 40030 40024 33033 40020 400...   \n",
       "47    192.168.202.83  80 443 3389 1723 3306 110 993 256 8888 139 135...   \n",
       "49    192.168.202.81  55553 17065 445 9200 12110 28024 8154 19885 13...   \n",
       "77    192.168.202.73  445 443 80 39101 47680 56356 39189 45107 57191...   \n",
       "126  192.168.202.102  80 23 443 21 22 25 3389 110 445 139 143 53 912...   \n",
       "129  192.168.202.110  1337 31337 5432 443 80 256 111 1720 554 135 10...   \n",
       "130   192.168.203.45  51701 32912 51703 51705 51706 37988 37989 3799...   \n",
       "135   192.168.204.45  5432 80 443 554 111 587 1720 5900 22 113 21 19...   \n",
       "\n",
       "           pca1       pca2  kcluster  \n",
       "4    -25.694812  -6.807290         3  \n",
       "47    79.032829  84.097249         0  \n",
       "49   -11.454007   5.199480         1  \n",
       "77   -19.530366  -2.007686         1  \n",
       "126  -14.977118 -15.348857         3  \n",
       "129  219.954846  -4.411324         2  \n",
       "130   12.699583  51.516269         1  \n",
       "135  219.954846  -4.411324         2  "
      ]
     },
     "execution_count": 34,
     "metadata": {},
     "output_type": "execute_result"
    }
   ],
   "source": [
    "\n",
    "### Take the \"Potential Scanners List\" from the Observations.txt that we got earlier.\n",
    "\n",
    "scanlist = ['192.168.202.83', '192.168.202.76', '192.168.202.110', '192.168.203.45', \n",
    "            '192.168.204.45', '192.168.202.102', '192.168.202.73', '192.168.202.81']\n",
    "\n",
    "sc = h8[h8.host.isin(scanlist)]\n",
    "\n",
    "sc"
   ]
  },
  {
   "cell_type": "code",
   "execution_count": null,
   "metadata": {},
   "outputs": [],
   "source": []
  },
  {
   "cell_type": "code",
   "execution_count": 35,
   "metadata": {},
   "outputs": [
    {
     "data": {
      "image/png": "[encoded data removed]",
      "text/plain": [
       "<Figure size 576x288 with 1 Axes>"
      ]
     },
     "metadata": {
      "needs_background": "light"
     },
     "output_type": "display_data"
    }
   ],
   "source": [
    "plt.rcParams[\"figure.figsize\"] = (8,4)\n",
    "pyplot.scatter(df0['pca2'],df0['pca1'], s=10, label=\"cl 0\")\n",
    "pyplot.scatter(df1['pca2'],df1['pca1'], s=10, marker=\"<\",label=\"cl 1\")\n",
    "pyplot.scatter(df2['pca2'],df2['pca1'], s=10, marker=\"^\",label=\"cl 2\")\n",
    "pyplot.scatter(df3['pca2'],df3['pca1'], s=10, marker=\"D\",label=\"cl 3\")\n",
    "#pyplot.scatter(outlier_df['pca2'],outlier_df['pca1'],s=50,marker=\"X\",label=\"Out\")\n",
    "pyplot.scatter(sc['pca2'], sc['pca1'], s=50, marker=\"X\", label=\"Scanner\")\n",
    "\n",
    "#pyplot.scatter(df4['pca2'],df4['pca1'],s=10,marker=\"<\",label=\"cl 4\")\n",
    "#pyplot.scatter(df5['pca2'],df5['pca1'],s=10,marker=\">\",label=\"cl 5\")\n",
    "\n",
    "pyplot.legend(bbox_to_anchor=(1.005, 1), loc=2, borderaxespad=0.)\n",
    "pyplot.show()"
   ]
  },
  {
   "cell_type": "markdown",
   "metadata": {},
   "source": [
    "### So, we have identified many different affinity groups and scanners within most of them."
   ]
  },
  {
   "cell_type": "code",
   "execution_count": null,
   "metadata": {},
   "outputs": [],
   "source": []
  },
  {
   "cell_type": "code",
   "execution_count": 36,
   "metadata": {},
   "outputs": [
    {
     "name": "stdout",
     "output_type": "stream",
     "text": [
      "85\n"
     ]
    }
   ],
   "source": [
    "server_lst = ['192.168.201.2', '192.168.202.78', '192.168.205.253', '192.168.206.44', '192.168.207.4', \n",
    "                     '192.168.21.102', '192.168.21.103', '192.168.21.152', '192.168.21.202', '192.168.21.203', \n",
    "                     '192.168.21.252', '192.168.21.253', '192.168.21.254', '192.168.22.1', '192.168.22.100', \n",
    "                     '192.168.22.101', '192.168.22.102', '192.168.22.103', '192.168.22.152', '192.168.22.202', \n",
    "                     '192.168.22.25', '192.168.22.252', '192.168.22.253', '192.168.22.254', '192.168.229.254', \n",
    "                     '192.168.23.1', '192.168.23.100', '192.168.23.101', '192.168.23.102', '192.168.23.103', \n",
    "                     '192.168.23.152', '192.168.23.202', '192.168.23.203', '192.168.23.25', '192.168.23.253', \n",
    "                     '192.168.23.254', '192.168.24.1', '192.168.24.101', '192.168.24.102', '192.168.24.103', \n",
    "                     '192.168.24.152', '192.168.24.202', '192.168.24.203', '192.168.24.25', '192.168.24.252', \n",
    "                     '192.168.24.253', '192.168.24.254', '192.168.25.1', '192.168.25.253', '192.168.26.1', \n",
    "                     '192.168.26.101', '192.168.26.102', '192.168.26.103', '192.168.26.152', '192.168.26.202', \n",
    "                     '192.168.26.203', '192.168.26.25', '192.168.26.252', '192.168.26.253', '192.168.26.254', \n",
    "                     '192.168.27.254', '192.168.28.1', '192.168.28.101', '192.168.28.102', '192.168.28.103', \n",
    "                     '192.168.28.152', '192.168.28.202', '192.168.28.203', '192.168.28.25', '192.168.28.252', \n",
    "                     '192.168.28.253', '192.168.28.254']\n",
    "\n",
    "client_lst = ['192.168.202.100', '192.168.202.101', '192.168.202.103', '192.168.202.109', \n",
    "              '192.168.202.73', '192.168.202.76', '192.168.202.81', '192.168.202.83', \n",
    "              '192.168.202.90', '192.168.202.91', '192.168.202.93', '192.168.202.96', \n",
    "              '192.168.203.62']\n",
    "\n",
    "client_server_lst = server_lst + client_lst\n",
    "\n",
    "print(len(client_server_lst))"
   ]
  },
  {
   "cell_type": "code",
   "execution_count": 37,
   "metadata": {},
   "outputs": [
    {
     "name": "stdout",
     "output_type": "stream",
     "text": [
      "2\n",
      "64\n",
      "0\n",
      "19\n"
     ]
    }
   ],
   "source": [
    "#count = 0\n",
    "#for i in client_server_lst:\n",
    "#    if i in list(df1.host):\n",
    "#        count+=1\n",
    "#print(count)\n",
    "\n",
    "#count = 0\n",
    "#for i in list(df1.host):\n",
    "#    if i in client_server_lst:\n",
    " #       count+=1\n",
    "#print(count)\n",
    "\n",
    "#print((set(client_server_lst) & set(list(df1.host))))\n",
    "\n",
    "\n",
    "print(len(set(client_server_lst) & set(list(df0.host))))\n",
    "\n",
    "print(len(set(client_server_lst) & set(list(df1.host)))) \n",
    "\n",
    "print(len(set(client_server_lst) & set(list(df2.host))))\n",
    "\n",
    "print(len(set(client_server_lst) & set(list(df3.host))))\n",
    "\n",
    "#print(len(set(client_server_lst)))\n",
    "#set(list(df0.host)) & set(list(df1.host)) & set(list(df2.host)) & set(list(df3.host))"
   ]
  },
  {
   "cell_type": "code",
   "execution_count": 38,
   "metadata": {},
   "outputs": [],
   "source": [
    "#df2"
   ]
  },
  {
   "cell_type": "code",
   "execution_count": 39,
   "metadata": {},
   "outputs": [],
   "source": [
    "#myan.host_profile(df, '192.168.202.79')\n",
    "#myan.port_info(df, '192.168.202.79')"
   ]
  },
  {
   "cell_type": "code",
   "execution_count": 40,
   "metadata": {},
   "outputs": [],
   "source": [
    "#myan.host_profile(df, '192.168.229.251')\n",
    "#myan.port_info(df, '192.168.229.251')\n"
   ]
  },
  {
   "cell_type": "code",
   "execution_count": null,
   "metadata": {},
   "outputs": [],
   "source": []
  },
  {
   "cell_type": "code",
   "execution_count": 41,
   "metadata": {},
   "outputs": [],
   "source": [
    "#outliers"
   ]
  },
  {
   "cell_type": "code",
   "execution_count": 42,
   "metadata": {},
   "outputs": [],
   "source": [
    "#for host in outliers:\n",
    " #   print(\"\\n\\n----------------- \" + host + \" ------------------\\n\\n\")\n",
    "  #  myan.host_profile(df, host)\n",
    "   # myan.port_info(df, host)\n",
    "    "
   ]
  },
  {
   "cell_type": "code",
   "execution_count": 43,
   "metadata": {},
   "outputs": [],
   "source": [
    "\n",
    "#print(set(outliers) & set(list(sc.host)))"
   ]
  },
  {
   "cell_type": "code",
   "execution_count": null,
   "metadata": {},
   "outputs": [],
   "source": [
    "#myan.host_profile(df, '192.168.203.45')\n",
    "#myan.port_info(df, '192.168.203.45')"
   ]
  },
  {
   "cell_type": "code",
   "execution_count": null,
   "metadata": {},
   "outputs": [],
   "source": []
  }
 ],
 "metadata": {
  "kernelspec": {
   "display_name": "Python [conda env:root] *",
   "language": "python",
   "name": "conda-root-py"
  },
  "language_info": {
   "codemirror_mode": {
    "name": "ipython",
    "version": 3
   },
   "file_extension": ".py",
   "mimetype": "text/x-python",
   "name": "python",
   "nbconvert_exporter": "python",
   "pygments_lexer": "ipython3",
   "version": "3.8.5"
  }
 },
 "nbformat": 4,
 "nbformat_minor": 4
}
